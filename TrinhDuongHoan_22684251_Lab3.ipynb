{
 "cells": [
  {
   "cell_type": "markdown",
   "metadata": {},
   "source": [
    "#### Câu 1 : Viết bài thu hoạch (làm từng bước như bài toán ứng dụng 1) về nội dung :"
   ]
  },
  {
   "cell_type": "markdown",
   "metadata": {},
   "source": [
    "##### a) Tự chọn một ma trận nghịch đảo 3x3 . Sinh viên chứng minh ma trận đó khả nghịch ( tồn tại ma trận nghịch đảo )"
   ]
  },
  {
   "cell_type": "code",
   "execution_count": 12,
   "metadata": {},
   "outputs": [
    {
     "name": "stdout",
     "output_type": "stream",
     "text": [
      "-158.00000000000003\n"
     ]
    },
    {
     "data": {
      "text/plain": [
       "array([[-0.33544304,  0.05696203,  0.15822785],\n",
       "       [ 0.10759494,  0.09493671, -0.06962025],\n",
       "       [ 0.37341772, -0.08227848, -0.00632911]])"
      ]
     },
     "execution_count": 12,
     "metadata": {},
     "output_type": "execute_result"
    }
   ],
   "source": [
    "import numpy as np\n",
    "A  = np.array([[1, 2, 3], [4, 9, 1], [7, 1, 6]])\n",
    "\n",
    "# ma trận A khả nghịch vì det(A)!=0\n",
    "\n",
    "print(np.linalg.det(A))\n",
    "\n",
    "# nên A tồn tại ma trận nghịch đảo\n",
    "\n",
    "A_inv = np.linalg.inv(A)\n",
    "A_inv"
   ]
  },
  {
   "cell_type": "markdown",
   "metadata": {},
   "source": [
    "##### b) Nhập họ và tên của sinh viên"
   ]
  },
  {
   "cell_type": "code",
   "execution_count": 13,
   "metadata": {},
   "outputs": [],
   "source": [
    "full_name = input('Input Name: ')"
   ]
  },
  {
   "cell_type": "code",
   "execution_count": 14,
   "metadata": {},
   "outputs": [
    {
     "name": "stdout",
     "output_type": "stream",
     "text": [
      "(3, 3):[ 84 114 105]\n",
      "(3, 3):[110 104  32]\n",
      "(3, 3):[ 68 117 111]\n",
      "(3, 3):[110 103  32]\n",
      "(3, 3):[ 72 111  97]\n",
      "(3, 3):[110  36  36]\n"
     ]
    },
    {
     "data": {
      "text/plain": [
       "matrix([[1275, 1299,  996],\n",
       "        [ 750, 1188,  626],\n",
       "        [1313, 1300,  987],\n",
       "        [ 746, 1179,  625],\n",
       "        [1195, 1240,  909],\n",
       "        [ 506,  580,  582]])"
      ]
     },
     "execution_count": 14,
     "metadata": {},
     "output_type": "execute_result"
    }
   ],
   "source": [
    "def endcoding(full_name):\n",
    "  i = 0\n",
    "  result = []\n",
    "  # quy ước rỗng ta ký hiệu $\n",
    "  while i <len(full_name):\n",
    "    res = []\n",
    "    cur = []\n",
    "    for j in range(3):\n",
    "        c = '$'\n",
    "        if i+j<len(full_name):\n",
    "            c = full_name[i+j]\n",
    "        cur.append(c)\n",
    "        res.append(ord(c))\n",
    "    res = np.array(res)\n",
    "    i += 3\n",
    "    # print(cur, end = ':')\n",
    "    # print(res.dot(A))\n",
    "    print(A.shape, end = \":\")\n",
    "    print(res)\n",
    "    result.append(res.dot(A))\n",
    "  return np.matrix(result)\n",
    "\n",
    "endcoding(full_name)"
   ]
  },
  {
   "cell_type": "code",
   "execution_count": 15,
   "metadata": {},
   "outputs": [
    {
     "data": {
      "text/plain": [
       "matrix([[1275, 1299,  996],\n",
       "        [ 750, 1188,  626],\n",
       "        [1313, 1300,  987],\n",
       "        [ 746, 1179,  625],\n",
       "        [1195, 1240,  909],\n",
       "        [ 506,  580,  582]])"
      ]
     },
     "execution_count": 15,
     "metadata": {},
     "output_type": "execute_result"
    }
   ],
   "source": [
    "def encode(full_name):\n",
    "    i = 0\n",
    "    encoded_data = []\n",
    "\n",
    "    while i < len(full_name):\n",
    "        res = []\n",
    "        for j in range(3):\n",
    "            c = \"$\"\n",
    "            if i + j < len(full_name):\n",
    "                c = full_name[i + j]\n",
    "            res.append(ord(c))\n",
    "        res = np.array(res)\n",
    "        i += 3\n",
    "        encoded_data.append(res.dot(A))\n",
    "    return np.matrix(encoded_data)\n",
    "\n",
    "encode(full_name)"
   ]
  },
  {
   "cell_type": "code",
   "execution_count": 16,
   "metadata": {},
   "outputs": [
    {
     "name": "stdout",
     "output_type": "stream",
     "text": [
      "[[ 84. 114. 105.]]\n",
      "[[110. 104.  32.]]\n",
      "[[ 68. 117. 111.]]\n",
      "[[110. 103.  32.]]\n",
      "[[ 72. 111.  97.]]\n",
      "[[110.  36.  36.]]\n"
     ]
    }
   ],
   "source": [
    "def  decode(encode_data):\n",
    "    for i in encode_data:\n",
    "        cur = np.array(i.dot(A_inv))\n",
    "        print(cur)\n",
    "\n",
    "decode(encode(full_name))"
   ]
  },
  {
   "cell_type": "markdown",
   "metadata": {},
   "source": [
    "#### Câu 2"
   ]
  },
  {
   "cell_type": "markdown",
   "metadata": {},
   "source": [
    "- a)"
   ]
  },
  {
   "cell_type": "code",
   "execution_count": 17,
   "metadata": {},
   "outputs": [
    {
     "name": "stdout",
     "output_type": "stream",
     "text": [
      "10/7\n"
     ]
    }
   ],
   "source": [
    "from fractions import Fraction as F\n",
    "def solve(c : list) :\n",
    "    A = np.array([[1,0],[0,1]])\n",
    "    for x in c :\n",
    "        temp = np.array([[x,1],[1,0]])\n",
    "        A = A.dot(temp)\n",
    "\n",
    "    return A[0][0], A[1][0]\n",
    "\n",
    "lst  =  [1,2,3]\n",
    "p,n = solve(lst)\n",
    "Ans =F(p,n)\n",
    "print(Ans)"
   ]
  },
  {
   "cell_type": "markdown",
   "metadata": {},
   "source": [
    "##### b)"
   ]
  },
  {
   "cell_type": "markdown",
   "metadata": {},
   "source": [
    "Với n = 1 , ta có : \\\n",
    "$\\begin{bmatrix} c_0&1 \\\\ 1&0 \\end{bmatrix} = \\begin{bmatrix} p_0&p_{-1} \\\\ q_0 & q_{-1} \\end{bmatrix}$ \\\n",
    "Với $p_0 = c_0, p_{-1}= 1, q_0 = 1, q_{-1}= 0.$ Điều này khớp với công thức đã cho \\\n",
    "Giả sử công thức đúng với n = k , ta chứng minh với n = k+1 \\\n",
    "Ta có : \\\n",
    "$\\begin{bmatrix} c_{k+1}&1 \\\\ 1&0 \\end{bmatrix} * \\begin{bmatrix} p_{k}&p_{k-1} \\\\ q_{k} & q_{k-1} \\end{bmatrix} = \\begin{bmatrix} c_{k+1}p_k + p_{k-1} & c_{k+1}p_{k-1}+p_{k-2} \\\\ c_{k+1}q_k + q_{k-1} & c_{k+1}q_{k-1}+q_{k-2} \\end{bmatrix}$ \\\n",
    "So sánh với công thức đã cho , ta thấy nó khớp nếu $p_{k+1} = c_{k+1}p_k + p_{k-1} và q_{k+1} = c_{k+1}q_k + q_{k-1} $. Điều này chứng minh công thức đúng với mọi n"
   ]
  }
 ],
 "metadata": {
  "kernelspec": {
   "display_name": "Python 3",
   "language": "python",
   "name": "python3"
  },
  "language_info": {
   "codemirror_mode": {
    "name": "ipython",
    "version": 3
   },
   "file_extension": ".py",
   "mimetype": "text/x-python",
   "name": "python",
   "nbconvert_exporter": "python",
   "pygments_lexer": "ipython3",
   "version": "3.12.1"
  }
 },
 "nbformat": 4,
 "nbformat_minor": 2
}
