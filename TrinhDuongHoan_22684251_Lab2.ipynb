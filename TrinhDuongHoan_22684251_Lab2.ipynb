{
 "cells": [
  {
   "cell_type": "markdown",
   "metadata": {},
   "source": [
    "### Bài tập chương 2"
   ]
  },
  {
   "cell_type": "markdown",
   "metadata": {},
   "source": [
    "Câu 1"
   ]
  },
  {
   "cell_type": "markdown",
   "metadata": {},
   "source": [
    "- Vấn đề 1: Tìm giao điểm giữa hai đường thẳng trong $\\mathbb{R}^2$"
   ]
  },
  {
   "cell_type": "code",
   "execution_count": 19,
   "metadata": {},
   "outputs": [
    {
     "name": "stdout",
     "output_type": "stream",
     "text": [
      "[0. 2.]\n"
     ]
    }
   ],
   "source": [
    "import numpy as np \n",
    "A = np.array([[1,-1], [2,3]])\n",
    "B = np.array([-2,6])\n",
    "ans = np.linalg.solve(A,B)\n",
    "print(ans)"
   ]
  },
  {
   "cell_type": "markdown",
   "metadata": {},
   "source": [
    "- Vấn đề 2 : Tìm giao điểm giữa 3 mặt phẳng trong $\\mathbb{R}^3$"
   ]
  },
  {
   "cell_type": "code",
   "execution_count": 14,
   "metadata": {},
   "outputs": [
    {
     "name": "stdout",
     "output_type": "stream",
     "text": [
      "[3. 1. 2.]\n"
     ]
    }
   ],
   "source": [
    "A = np.array([[1,-1,0], [2, -1, -1], [1,1,1]])\n",
    "B = np.array([2,3,6])\n",
    "ans = np.linalg.solve(A,B)\n",
    "print(ans)"
   ]
  },
  {
   "cell_type": "markdown",
   "metadata": {},
   "source": [
    "- Vấn đề 3 : Tìm các hệ số đa thức để đa thức thỏa mãn các nghiệm :\n",
    "$P(x) = ax^2 + bx + c, P(1) = 4, P(2) = 3 , P(3) = 4$ "
   ]
  },
  {
   "cell_type": "markdown",
   "metadata": {},
   "source": [
    "Giải : \\\n",
    "Ta có : \n",
    "+ $P(1) = a + b + c = 4 (1)$ \n",
    "+ $P(2) = 4a + 2b + c = 3 (2)$ \n",
    "+ $P(3) = 9a + 3b + c = 4 (3)$ \\\n",
    "$Từ (1), (2), (3) => a = 1 , b = -4 , c = 7 $"
   ]
  },
  {
   "cell_type": "code",
   "execution_count": 24,
   "metadata": {},
   "outputs": [
    {
     "name": "stdout",
     "output_type": "stream",
     "text": [
      "[ 1. -4.  7.]\n"
     ]
    }
   ],
   "source": [
    "A = np.array([[1,1,1], [4,2,1], [9,3,1]])\n",
    "B = np.array([4,3,4])\n",
    "ans = np.linalg.solve(A,B)\n",
    "print(ans)"
   ]
  },
  {
   "cell_type": "markdown",
   "metadata": {},
   "source": [
    "- Vấn đề 4 : Tìm hệ các đa thức khi phân rã để tính tích phân"
   ]
  },
  {
   "cell_type": "code",
   "execution_count": 35,
   "metadata": {},
   "outputs": [
    {
     "name": "stdout",
     "output_type": "stream",
     "text": [
      "[-0.11111111 -0.66666667  1.11111111]\n"
     ]
    },
    {
     "name": "stderr",
     "output_type": "stream",
     "text": [
      "C:\\Users\\ADMIN\\AppData\\Local\\Temp\\ipykernel_11896\\3221327472.py:8: RuntimeWarning: divide by zero encountered in divide\n",
      "  y = ans[0]/(x-1) + ans[1]/((x-1)**2) + ans[2]/(x+2)\n"
     ]
    },
    {
     "data": {
      "text/plain": [
       "-inf"
      ]
     },
     "execution_count": 35,
     "metadata": {},
     "output_type": "execute_result"
    }
   ],
   "source": [
    "A = np.array([[1,0,1], [1,1,-2], [-2,2,1]])\n",
    "B = np.array([1,-3,0])\n",
    "ans = np.linalg.solve(A,B)\n",
    "print(ans)\n",
    "\n",
    "x = np.arange(0,1.1,0.01)\n",
    "\n",
    "y = ans[0]/(x-1) + ans[1]/((x-1)**2) + ans[2]/(x+2)\n",
    "\n",
    "np.trapz(y)"
   ]
  },
  {
   "cell_type": "markdown",
   "metadata": {},
   "source": [
    "Câu 2"
   ]
  },
  {
   "cell_type": "code",
   "execution_count": 20,
   "metadata": {},
   "outputs": [
    {
     "data": {
      "text/plain": [
       "{x: 0, y: 2}"
      ]
     },
     "execution_count": 20,
     "metadata": {},
     "output_type": "execute_result"
    }
   ],
   "source": [
    "# Vấn đề 1 \n",
    "import sympy as sp\n",
    "X = sp.Symbol('x')\n",
    "Y = sp.Symbol('y')\n",
    "sp.solve([X - Y + 2,2*X + 3*Y -6], [X,Y])"
   ]
  },
  {
   "cell_type": "code",
   "execution_count": 22,
   "metadata": {},
   "outputs": [
    {
     "data": {
      "text/plain": [
       "{x: 3, y: 1, z: 2}"
      ]
     },
     "execution_count": 22,
     "metadata": {},
     "output_type": "execute_result"
    }
   ],
   "source": [
    "# Vấn đề 2\n",
    "X = sp.Symbol('x')\n",
    "Y = sp.Symbol('y')\n",
    "Z = sp.Symbol('z')\n",
    "sp.solve([X - Y - 2, 2*X - Y - Z - 3, X + Y + Z - 6], [X,Y,Z])\n"
   ]
  },
  {
   "cell_type": "code",
   "execution_count": 23,
   "metadata": {},
   "outputs": [
    {
     "data": {
      "text/plain": [
       "{a: 1, b: -4, c: 7}"
      ]
     },
     "execution_count": 23,
     "metadata": {},
     "output_type": "execute_result"
    }
   ],
   "source": [
    "# Vấn đề 3\n",
    "a = sp.Symbol('a')\n",
    "b = sp.Symbol('b')\n",
    "c = sp.Symbol('c')\n",
    "sp.solve([a+b+c-4, 4*a + 2*b +c - 3, 9*a + 3*b + c - 4], [a,b,c])"
   ]
  },
  {
   "cell_type": "code",
   "execution_count": 25,
   "metadata": {},
   "outputs": [
    {
     "data": {
      "text/plain": [
       "{a: -1/9, b: -2/3, c: 10/9}"
      ]
     },
     "execution_count": 25,
     "metadata": {},
     "output_type": "execute_result"
    }
   ],
   "source": [
    "# Vấn đề 4 \n",
    "a = sp.Symbol('a')\n",
    "b = sp.Symbol('b')\n",
    "c = sp.Symbol('c')\n",
    "sp.solve([a+c-1, a + b - 2*c +3, -2*a + 2*b +c], [a,b,c])"
   ]
  },
  {
   "cell_type": "markdown",
   "metadata": {},
   "source": [
    "Câu 3"
   ]
  },
  {
   "cell_type": "code",
   "execution_count": 29,
   "metadata": {},
   "outputs": [
    {
     "name": "stdout",
     "output_type": "stream",
     "text": [
      "[[2 1]\n",
      " [1 1]]\n"
     ]
    }
   ],
   "source": [
    "F = np.array([[1,1],[1,0]])\n",
    "\n",
    "k = int(input())\n",
    "\n",
    "for i in range(k-1) :\n",
    "    F = F.dot(F)\n",
    "print(F)"
   ]
  },
  {
   "cell_type": "markdown",
   "metadata": {},
   "source": [
    "- Chứng minh $F_k$ chứa 3 phần tử của $Fibo_{k+1}, Fibo_k, Fibo_{k-1}$ \n",
    "Ta có : \n",
    "+ $F = \\left[\\begin{matrix} 1&1 \\\\ 1&0 \\end{matrix}\\right]$ \n",
    "+ Với k = 1, Ta có : Fibo[0] = 0 = F[1][1], Fibo[1] = 1 = F[0][1], Fibo[2] = 1 = F[0][0] \\\n",
    "\\\n",
    "Như vậy , ta có thể biểu diễn F dưới dạng : $\\left[\\begin{matrix} Fibo_2&Fibo_1 \\\\ Fibo_1&Fibo_0 \\end{matrix}\\right]$ \\\n",
    "Ta chứng minh với k + 1 : \\\n",
    "\\\n",
    "$F_{k+1} = F_k * F = \\left[\\begin{matrix} Fibo_{k+1}& Fibo_k \\\\ Fibo_k && Fibo_{k-1} \\end{matrix}\\right] * \\left[\\begin{matrix} 1&1 \\\\ 1&0 \\end{matrix}\\right] = \\left[\\begin{matrix} Fibo_{k+1} + Fibo_k && Fibo_{k+1} \\\\ Fibo_{k+1} && Fibo_k\\end{matrix}\\right] = \\left[\\begin{matrix} Fibo_{k+2} & Fibo_{k+1} \\\\ Fibo_{k+1} && Fibo_k \\end{matrix}\\right] = \\left[\\begin{matrix} Fibo_{(k+1)+1} & Fibo_{k+1} \\\\ Fibo_{k+1} && Fibo_{(k+1)-1} \\end{matrix}\\right] $\\\n",
    "\\\n",
    "Vậy $F_k$ chứa 3 phần tử của $Fibo_{k+1}, Fibo_k, Fibo_{k-1}$ "
   ]
  }
 ],
 "metadata": {
  "kernelspec": {
   "display_name": "Python 3",
   "language": "python",
   "name": "python3"
  },
  "language_info": {
   "codemirror_mode": {
    "name": "ipython",
    "version": 3
   },
   "file_extension": ".py",
   "mimetype": "text/x-python",
   "name": "python",
   "nbconvert_exporter": "python",
   "pygments_lexer": "ipython3",
   "version": "3.12.1"
  }
 },
 "nbformat": 4,
 "nbformat_minor": 2
}
