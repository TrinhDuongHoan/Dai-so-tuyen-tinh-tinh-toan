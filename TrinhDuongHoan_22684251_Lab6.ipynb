{
 "cells": [
  {
   "cell_type": "markdown",
   "metadata": {},
   "source": [
    "### Câu hỏi bổ sung"
   ]
  },
  {
   "cell_type": "markdown",
   "metadata": {},
   "source": [
    "**Câu 2)**"
   ]
  },
  {
   "cell_type": "code",
   "execution_count": 6,
   "metadata": {},
   "outputs": [
    {
     "name": "stdout",
     "output_type": "stream",
     "text": [
      "u :  [7 9 2 9 0]\n",
      "v :  [3 7 3 4 2]\n"
     ]
    }
   ],
   "source": [
    "import numpy as np\n",
    "\n",
    "u = np.random.randint(0,10,5)\n",
    "v = np.random.randint(0,10,5)\n",
    "print('u : ', u)\n",
    "print('v : ', v)"
   ]
  },
  {
   "cell_type": "code",
   "execution_count": 7,
   "metadata": {},
   "outputs": [
    {
     "name": "stdout",
     "output_type": "stream",
     "text": [
      "Khoảng cách giữa u với v là :  7.0710678118654755\n"
     ]
    }
   ],
   "source": [
    "# a\n",
    "d_uv = np.linalg.norm(u-v)\n",
    "print('Khoảng cách giữa u với v là : ', d_uv)"
   ]
  },
  {
   "cell_type": "code",
   "execution_count": 12,
   "metadata": {},
   "outputs": [
    {
     "name": "stdout",
     "output_type": "stream",
     "text": [
      "Góc giữa 2 vector u, v có số đo là 22.89 độ\n"
     ]
    }
   ],
   "source": [
    "# b\n",
    "def calc_angle(u,v) :\n",
    "    product_uv = u.T.dot(v)\n",
    "    norm_u = np.linalg.norm(u)\n",
    "    norm_v = np.linalg.norm(v)\n",
    "\n",
    "    angle_uv = np.arccos(product_uv/(norm_u*norm_v))\n",
    "    angle_uv = np.degrees(angle_uv)\n",
    "    return angle_uv\n",
    "\n",
    "print(f\"Góc giữa 2 vector u, v có số đo là %.2f độ\"%(calc_angle(u,v)))"
   ]
  },
  {
   "cell_type": "code",
   "execution_count": 27,
   "metadata": {},
   "outputs": [
    {
     "name": "stdout",
     "output_type": "stream",
     "text": [
      "Phép chiếu trực giao p với 2 vector u,v :  [ 4.34482759 10.13793103  4.34482759  5.79310345  2.89655172]\n"
     ]
    }
   ],
   "source": [
    "# c\n",
    "def orthogonal_projection(u,v) :\n",
    "    product_uv = u.T.dot(v)\n",
    "    product_vv = v.T.dot(v)\n",
    "    p = np.array([product_uv/product_vv])\n",
    "    return p * v\n",
    "\n",
    "print(\"Phép chiếu trực giao p với 2 vector u,v : \",orthogonal_projection(u,v))\n"
   ]
  }
 ],
 "metadata": {
  "kernelspec": {
   "display_name": "Python 3",
   "language": "python",
   "name": "python3"
  },
  "language_info": {
   "codemirror_mode": {
    "name": "ipython",
    "version": 3
   },
   "file_extension": ".py",
   "mimetype": "text/x-python",
   "name": "python",
   "nbconvert_exporter": "python",
   "pygments_lexer": "ipython3",
   "version": "3.12.2"
  }
 },
 "nbformat": 4,
 "nbformat_minor": 2
}
