{
 "cells": [
  {
   "cell_type": "markdown",
   "metadata": {},
   "source": [
    "### 1. Một số lưu ý về lập trình Python với đại số tuyến tính"
   ]
  },
  {
   "cell_type": "markdown",
   "metadata": {},
   "source": [
    "##### 1.3.   Các phép xử lí với danh sách "
   ]
  },
  {
   "cell_type": "code",
   "execution_count": 91,
   "metadata": {},
   "outputs": [],
   "source": [
    "# Khởi tạo danh sách\n",
    "danhsach1 = [1,2,3]\n",
    "danhsach2 = [5,6,7]"
   ]
  },
  {
   "cell_type": "code",
   "execution_count": 92,
   "metadata": {},
   "outputs": [
    {
     "data": {
      "text/plain": [
       "[1, 2, 3, 5, 6, 7]"
      ]
     },
     "execution_count": 92,
     "metadata": {},
     "output_type": "execute_result"
    }
   ],
   "source": [
    "# Nối 2 danh sách bằng toán tử +\n",
    "danhsach = danhsach1 + danhsach2\n",
    "danhsach"
   ]
  },
  {
   "cell_type": "code",
   "execution_count": 93,
   "metadata": {},
   "outputs": [
    {
     "data": {
      "text/plain": [
       "[1, 2, 3, 5, 6, 7, 1, 2, 3, 5, 6, 7]"
      ]
     },
     "execution_count": 93,
     "metadata": {},
     "output_type": "execute_result"
    }
   ],
   "source": [
    "# Gấp đôi danh sách\n",
    "danhsach_gapdoi = 2*danhsach\n",
    "danhsach_gapdoi"
   ]
  },
  {
   "cell_type": "code",
   "execution_count": 94,
   "metadata": {},
   "outputs": [
    {
     "data": {
      "text/plain": [
       "[1, 2, 3, 5, 6, 7, 1, 2, 3, 5, 6, 7]"
      ]
     },
     "execution_count": 94,
     "metadata": {},
     "output_type": "execute_result"
    }
   ],
   "source": [
    "danhsach*2"
   ]
  },
  {
   "cell_type": "code",
   "execution_count": 95,
   "metadata": {},
   "outputs": [],
   "source": [
    "# danhsach / 2 # Chương trình sẽ thông báo lỗi vì không thể chia list cho một số nguyên"
   ]
  },
  {
   "cell_type": "code",
   "execution_count": 96,
   "metadata": {},
   "outputs": [
    {
     "data": {
      "text/plain": [
       "<zip at 0x1983feb1280>"
      ]
     },
     "execution_count": 96,
     "metadata": {},
     "output_type": "execute_result"
    }
   ],
   "source": [
    "# Ghép các danh sách bằng lệnh zip\n",
    "mon_hoc = [\"ToanCC\", \"DSTT\", \"ToanRR\", \"LaptrinhCB\"]\n",
    "thu_tu = [2, 3, 4, 1]\n",
    "diem_so = [10, 9, 8, 7]\n",
    "anh_xa = zip(thu_tu, mon_hoc, diem_so)\n",
    "anh_xa ## anh_xa la mot doi tuong zip\n"
   ]
  },
  {
   "cell_type": "code",
   "execution_count": 97,
   "metadata": {},
   "outputs": [
    {
     "data": {
      "text/plain": [
       "{(1, 'LaptrinhCB', 7), (2, 'ToanCC', 10), (3, 'DSTT', 9), (4, 'ToanRR', 8)}"
      ]
     },
     "execution_count": 97,
     "metadata": {},
     "output_type": "execute_result"
    }
   ],
   "source": [
    "tap_hop = set(anh_xa) # Chuyển zip thành dạng tập hợp\n",
    "tap_hop"
   ]
  },
  {
   "cell_type": "code",
   "execution_count": 98,
   "metadata": {},
   "outputs": [
    {
     "ename": "ValueError",
     "evalue": "not enough values to unpack (expected 3, got 0)",
     "output_type": "error",
     "traceback": [
      "\u001b[1;31m---------------------------------------------------------------------------\u001b[0m",
      "\u001b[1;31mValueError\u001b[0m                                Traceback (most recent call last)",
      "Cell \u001b[1;32mIn[98], line 2\u001b[0m\n\u001b[0;32m      1\u001b[0m \u001b[38;5;66;03m# Phân rã đối tượng zip\u001b[39;00m\n\u001b[1;32m----> 2\u001b[0m lay_TT , lay_monhoc , lay_diem \u001b[38;5;241m=\u001b[39m \u001b[38;5;28mzip\u001b[39m(\u001b[38;5;241m*\u001b[39manh_xa)\n\u001b[0;32m      3\u001b[0m lay_monhoc\n",
      "\u001b[1;31mValueError\u001b[0m: not enough values to unpack (expected 3, got 0)"
     ]
    }
   ],
   "source": [
    "# Phân rã đối tượng zip\n",
    "lay_TT , lay_monhoc , lay_diem = zip(*anh_xa)\n",
    "lay_monhoc"
   ]
  },
  {
   "cell_type": "markdown",
   "metadata": {},
   "source": [
    "* Xây dựng danh sách: Bên cạnh những cách khai báo danh sách thông thường như: khai báo\n",
    "sẵn hoặc khai báo list rỗng rồi bổ sung phần tử bằng lệnh append, cơ chế sinh tập hợp list\n",
    "trong Python còn có thể thực hiện bằng các cách sau:"
   ]
  },
  {
   "cell_type": "code",
   "execution_count": null,
   "metadata": {},
   "outputs": [
    {
     "data": {
      "text/plain": [
       "[0, 1, 2, 3, 5, 6, 7, 8, 9, 15, 16, 17, 18, 19]"
      ]
     },
     "execution_count": 25,
     "metadata": {},
     "output_type": "execute_result"
    }
   ],
   "source": [
    "import itertools\n",
    "tap_sinh = list(itertools.chain(range(4), range(5,10), range(15,20)))\n",
    "tap_sinh"
   ]
  },
  {
   "cell_type": "code",
   "execution_count": null,
   "metadata": {},
   "outputs": [
    {
     "data": {
      "text/plain": [
       "[(0, 7, 10), (1, 8, 9), (2, 9, 8), (3, 10, 7)]"
      ]
     },
     "execution_count": 26,
     "metadata": {},
     "output_type": "execute_result"
    }
   ],
   "source": [
    "# Tạo ra tập sinh nhiều chiều\n",
    "list(zip(range(4), range(7, 12), reversed(range(11) ) ) )"
   ]
  },
  {
   "cell_type": "markdown",
   "metadata": {},
   "source": [
    "##### 1.4. Lệnh thực thi một tập tin python"
   ]
  },
  {
   "cell_type": "code",
   "execution_count": 176,
   "metadata": {},
   "outputs": [],
   "source": [
    "# execfile('test.py')"
   ]
  },
  {
   "cell_type": "markdown",
   "metadata": {},
   "source": [
    "### 2. Các gói thư viện cơ bản tích hợp trong Python hỗ trợ toán học"
   ]
  },
  {
   "cell_type": "markdown",
   "metadata": {},
   "source": [
    "Hàm $expm1(x)$ trong thư viện math trả về giá trị $e^x - 1$ \\\n",
    "Hàm $exp(x)$ trong thư viện math trả về giá trị $e^x$"
   ]
  },
  {
   "cell_type": "code",
   "execution_count": null,
   "metadata": {},
   "outputs": [
    {
     "name": "stdout",
     "output_type": "stream",
     "text": [
      "True\n"
     ]
    }
   ],
   "source": [
    "import math\n",
    "x = 1\n",
    "print(math.expm1(x) == math.exp(x)-1) # True"
   ]
  },
  {
   "cell_type": "code",
   "execution_count": null,
   "metadata": {},
   "outputs": [
    {
     "name": "stdout",
     "output_type": "stream",
     "text": [
      "False\n",
      "1.0000050000069649e-05\n",
      "1.0000050000166668e-05\n"
     ]
    }
   ],
   "source": [
    "x = 1e-5\n",
    "print(math.expm1(x) == math.exp(x)-1) # False\n",
    "print(math.exp(x)-1)\n",
    "print(math.expm1(x))\n",
    "# Bởi  vì 1e-5 là số thực rất nhỏ nên e^x  sẽ có sai số nên dẫn đến kết quả False"
   ]
  },
  {
   "cell_type": "markdown",
   "metadata": {},
   "source": [
    "### 3. Làm quen với thư viện NumPy"
   ]
  },
  {
   "cell_type": "markdown",
   "metadata": {},
   "source": [
    "#### 3.1. Một số lệnh cơ bản numpy xử lí vector"
   ]
  },
  {
   "cell_type": "code",
   "execution_count": 102,
   "metadata": {},
   "outputs": [],
   "source": [
    "# Khởi tạo vector\n",
    "import numpy as np\n",
    "vec1 = np.array([1, 2, 3,4, 5])"
   ]
  },
  {
   "cell_type": "code",
   "execution_count": 103,
   "metadata": {},
   "outputs": [
    {
     "data": {
      "text/plain": [
       "array([ 2,  4,  6,  8, 10])"
      ]
     },
     "execution_count": 103,
     "metadata": {},
     "output_type": "execute_result"
    }
   ],
   "source": [
    "# Nhân vector với một số  thực\n",
    "vec1 * 2"
   ]
  },
  {
   "cell_type": "code",
   "execution_count": 104,
   "metadata": {},
   "outputs": [
    {
     "data": {
      "text/plain": [
       "array([0.5, 1. , 1.5, 2. , 2.5])"
      ]
     },
     "execution_count": 104,
     "metadata": {},
     "output_type": "execute_result"
    }
   ],
   "source": [
    "vec1/2"
   ]
  },
  {
   "cell_type": "code",
   "execution_count": 107,
   "metadata": {},
   "outputs": [
    {
     "data": {
      "text/plain": [
       "array([ 1,  4,  9, 16, 25])"
      ]
     },
     "execution_count": 107,
     "metadata": {},
     "output_type": "execute_result"
    }
   ],
   "source": [
    "# Nhân 2 vector với nhau \n",
    "vec1*vec1"
   ]
  },
  {
   "cell_type": "code",
   "execution_count": 108,
   "metadata": {},
   "outputs": [
    {
     "data": {
      "text/plain": [
       "array([ 2,  4,  6,  8, 10])"
      ]
     },
     "execution_count": 108,
     "metadata": {},
     "output_type": "execute_result"
    }
   ],
   "source": [
    "# Cộng 2 vector\n",
    "vec1 + vec1"
   ]
  },
  {
   "cell_type": "code",
   "execution_count": 111,
   "metadata": {},
   "outputs": [
    {
     "ename": "ValueError",
     "evalue": "operands could not be broadcast together with shapes (5,) (3,) ",
     "output_type": "error",
     "traceback": [
      "\u001b[1;31m---------------------------------------------------------------------------\u001b[0m",
      "\u001b[1;31mValueError\u001b[0m                                Traceback (most recent call last)",
      "Cell \u001b[1;32mIn[111], line 2\u001b[0m\n\u001b[0;32m      1\u001b[0m vec2 \u001b[38;5;241m=\u001b[39m np\u001b[38;5;241m.\u001b[39marray([\u001b[38;5;241m2\u001b[39m,\u001b[38;5;241m3\u001b[39m,\u001b[38;5;241m4\u001b[39m])\n\u001b[1;32m----> 2\u001b[0m \u001b[43mvec1\u001b[49m\u001b[43m \u001b[49m\u001b[38;5;241;43m+\u001b[39;49m\u001b[43m \u001b[49m\u001b[43mvec2\u001b[49m \u001b[38;5;66;03m# Chương trình sẽ thông báo lỗi vì vec1 và vec2  không cùng kích thước nên không thể cộng được\u001b[39;00m\n",
      "\u001b[1;31mValueError\u001b[0m: operands could not be broadcast together with shapes (5,) (3,) "
     ]
    }
   ],
   "source": [
    "vec2 = np.array([2,3,4])\n",
    "vec1 + vec2 # Chương trình sẽ thông báo lỗi vì vec1 và vec2  không cùng kích thước nên không thể cộng được"
   ]
  },
  {
   "cell_type": "code",
   "execution_count": 113,
   "metadata": {},
   "outputs": [
    {
     "data": {
      "text/plain": [
       "array([ 3,  5,  7,  9, 11])"
      ]
     },
     "execution_count": 113,
     "metadata": {},
     "output_type": "execute_result"
    }
   ],
   "source": [
    "vec3 = np.array([2,3,4,5,6])\n",
    "vec1 + vec3"
   ]
  },
  {
   "cell_type": "code",
   "execution_count": 115,
   "metadata": {},
   "outputs": [
    {
     "data": {
      "text/plain": [
       "array([0.5       , 0.66666667, 0.75      , 0.8       , 0.83333333])"
      ]
     },
     "execution_count": 115,
     "metadata": {},
     "output_type": "execute_result"
    }
   ],
   "source": [
    "# chia 2 vector -> Từng phần tử của vector bị chia chia cho từng phần tử của vector chia\n",
    "vec1/vec3"
   ]
  },
  {
   "cell_type": "code",
   "execution_count": 116,
   "metadata": {},
   "outputs": [
    {
     "data": {
      "text/plain": [
       "array([ 2,  6, 12, 20, 30])"
      ]
     },
     "execution_count": 116,
     "metadata": {},
     "output_type": "execute_result"
    }
   ],
   "source": [
    "vec1 * vec3"
   ]
  },
  {
   "cell_type": "code",
   "execution_count": 118,
   "metadata": {},
   "outputs": [
    {
     "data": {
      "text/plain": [
       "array([12, 19, 26, 33, 40])"
      ]
     },
     "execution_count": 118,
     "metadata": {},
     "output_type": "execute_result"
    }
   ],
   "source": [
    "2* vec1 + 5* vec3"
   ]
  },
  {
   "cell_type": "markdown",
   "metadata": {},
   "source": [
    "Truy xuất đến phần tử của vector:"
   ]
  },
  {
   "cell_type": "code",
   "execution_count": 119,
   "metadata": {},
   "outputs": [
    {
     "data": {
      "text/plain": [
       "4"
      ]
     },
     "execution_count": 119,
     "metadata": {},
     "output_type": "execute_result"
    }
   ],
   "source": [
    "vec3[2]"
   ]
  },
  {
   "cell_type": "markdown",
   "metadata": {},
   "source": [
    "Tạo vector thông qua câu lệnh linspace(phần tử đầu, phần tử cuối, số lượng phần tử)"
   ]
  },
  {
   "cell_type": "code",
   "execution_count": 121,
   "metadata": {},
   "outputs": [
    {
     "data": {
      "text/plain": [
       "array([ 0.,  5., 10., 15., 20.])"
      ]
     },
     "execution_count": 121,
     "metadata": {},
     "output_type": "execute_result"
    }
   ],
   "source": [
    "vec4 = np.linspace(0, 20, 5)\n",
    "vec4"
   ]
  },
  {
   "cell_type": "markdown",
   "metadata": {},
   "source": [
    "Tạo các vector toàn 0"
   ]
  },
  {
   "cell_type": "code",
   "execution_count": 122,
   "metadata": {},
   "outputs": [
    {
     "data": {
      "text/plain": [
       "array([0., 0., 0., 0., 0.])"
      ]
     },
     "execution_count": 122,
     "metadata": {},
     "output_type": "execute_result"
    }
   ],
   "source": [
    "vec5 = np.zeros(5)\n",
    "vec5"
   ]
  },
  {
   "cell_type": "markdown",
   "metadata": {},
   "source": [
    "Tạo các vector toàn 1"
   ]
  },
  {
   "cell_type": "code",
   "execution_count": 123,
   "metadata": {},
   "outputs": [
    {
     "data": {
      "text/plain": [
       "array([1., 1., 1., 1., 1.])"
      ]
     },
     "execution_count": 123,
     "metadata": {},
     "output_type": "execute_result"
    }
   ],
   "source": [
    "vec6 = np.ones(5)\n",
    "vec6"
   ]
  },
  {
   "cell_type": "markdown",
   "metadata": {},
   "source": [
    "Tạo vector ảo (giá trị rỗng)"
   ]
  },
  {
   "cell_type": "code",
   "execution_count": 124,
   "metadata": {},
   "outputs": [
    {
     "data": {
      "text/plain": [
       "array([1., 1., 1., 1., 1.])"
      ]
     },
     "execution_count": 124,
     "metadata": {},
     "output_type": "execute_result"
    }
   ],
   "source": [
    "vec7 = np.empty(5)\n",
    "vec7"
   ]
  },
  {
   "cell_type": "markdown",
   "metadata": {},
   "source": [
    "Tạo vector các giá trị ngẫu nhiên từ 0 đến 1"
   ]
  },
  {
   "cell_type": "code",
   "execution_count": 125,
   "metadata": {},
   "outputs": [
    {
     "data": {
      "text/plain": [
       "array([0.46659293, 0.75556232, 0.40349714, 0.63620044, 0.60051926])"
      ]
     },
     "execution_count": 125,
     "metadata": {},
     "output_type": "execute_result"
    }
   ],
   "source": [
    "np.random.random(5)"
   ]
  },
  {
   "cell_type": "code",
   "execution_count": 126,
   "metadata": {},
   "outputs": [],
   "source": [
    "v = np.array([1,2,3,4,5])"
   ]
  },
  {
   "cell_type": "markdown",
   "metadata": {},
   "source": [
    "Lệnh lấy tổng các thành phần của vector"
   ]
  },
  {
   "cell_type": "code",
   "execution_count": 127,
   "metadata": {},
   "outputs": [
    {
     "data": {
      "text/plain": [
       "15"
      ]
     },
     "execution_count": 127,
     "metadata": {},
     "output_type": "execute_result"
    }
   ],
   "source": [
    "np.sum(v)"
   ]
  },
  {
   "cell_type": "markdown",
   "metadata": {},
   "source": [
    "Lệnh xem số chiều của một vector"
   ]
  },
  {
   "cell_type": "code",
   "execution_count": 128,
   "metadata": {},
   "outputs": [
    {
     "data": {
      "text/plain": [
       "(5,)"
      ]
     },
     "execution_count": 128,
     "metadata": {},
     "output_type": "execute_result"
    }
   ],
   "source": [
    "v.shape"
   ]
  },
  {
   "cell_type": "markdown",
   "metadata": {},
   "source": [
    "Thử nghiệm “chuyển vị” vector"
   ]
  },
  {
   "cell_type": "code",
   "execution_count": 129,
   "metadata": {},
   "outputs": [
    {
     "data": {
      "text/plain": [
       "array([1, 2, 3, 4, 5])"
      ]
     },
     "execution_count": 129,
     "metadata": {},
     "output_type": "execute_result"
    }
   ],
   "source": [
    "v.transpose()"
   ]
  },
  {
   "cell_type": "markdown",
   "metadata": {},
   "source": [
    "Lệnh lấy một phần của vector"
   ]
  },
  {
   "cell_type": "code",
   "execution_count": 131,
   "metadata": {},
   "outputs": [
    {
     "data": {
      "text/plain": [
       "array([1, 2])"
      ]
     },
     "execution_count": 131,
     "metadata": {},
     "output_type": "execute_result"
    }
   ],
   "source": [
    "v1 = v[:2]\n",
    "v1"
   ]
  },
  {
   "cell_type": "code",
   "execution_count": 132,
   "metadata": {},
   "outputs": [
    {
     "data": {
      "text/plain": [
       "array([5, 2, 3, 4, 5])"
      ]
     },
     "execution_count": 132,
     "metadata": {},
     "output_type": "execute_result"
    }
   ],
   "source": [
    "v[0] = 5\n",
    "v"
   ]
  },
  {
   "cell_type": "code",
   "execution_count": 133,
   "metadata": {},
   "outputs": [
    {
     "data": {
      "text/plain": [
       "array([5, 2])"
      ]
     },
     "execution_count": 133,
     "metadata": {},
     "output_type": "execute_result"
    }
   ],
   "source": [
    "v1"
   ]
  },
  {
   "cell_type": "code",
   "execution_count": 136,
   "metadata": {},
   "outputs": [
    {
     "ename": "ValueError",
     "evalue": "could not broadcast input array from shape (3,) into shape (2,)",
     "output_type": "error",
     "traceback": [
      "\u001b[1;31m---------------------------------------------------------------------------\u001b[0m",
      "\u001b[1;31mValueError\u001b[0m                                Traceback (most recent call last)",
      "Cell \u001b[1;32mIn[136], line 1\u001b[0m\n\u001b[1;32m----> 1\u001b[0m \u001b[43mv1\u001b[49m\u001b[43m[\u001b[49m\u001b[43m:\u001b[49m\u001b[38;5;241;43m2\u001b[39;49m\u001b[43m]\u001b[49m \u001b[38;5;241m=\u001b[39m [\u001b[38;5;241m1\u001b[39m, \u001b[38;5;241m2\u001b[39m, \u001b[38;5;241m3\u001b[39m]\n",
      "\u001b[1;31mValueError\u001b[0m: could not broadcast input array from shape (3,) into shape (2,)"
     ]
    }
   ],
   "source": [
    "v1[:2] = [1, 2, 3] # Chương trình thông báo lỗi vì không cùng kích thước"
   ]
  },
  {
   "cell_type": "code",
   "execution_count": 137,
   "metadata": {},
   "outputs": [
    {
     "data": {
      "text/plain": [
       "array([1, 2])"
      ]
     },
     "execution_count": 137,
     "metadata": {},
     "output_type": "execute_result"
    }
   ],
   "source": [
    "v1[:2] = [1, 2]\n",
    "v1"
   ]
  },
  {
   "cell_type": "code",
   "execution_count": 138,
   "metadata": {},
   "outputs": [
    {
     "data": {
      "text/plain": [
       "array([ 5, 10])"
      ]
     },
     "execution_count": 138,
     "metadata": {},
     "output_type": "execute_result"
    }
   ],
   "source": [
    "v3 = 2 * v[:2] + v1 * 3\n",
    "v3"
   ]
  },
  {
   "cell_type": "code",
   "execution_count": 139,
   "metadata": {},
   "outputs": [
    {
     "data": {
      "text/plain": [
       "array([ 5, 10])"
      ]
     },
     "execution_count": 139,
     "metadata": {},
     "output_type": "execute_result"
    }
   ],
   "source": [
    "v1 = [4, 6]\n",
    "v3"
   ]
  },
  {
   "cell_type": "code",
   "execution_count": 140,
   "metadata": {},
   "outputs": [
    {
     "data": {
      "text/plain": [
       "array([1, 2, 3, 4, 5])"
      ]
     },
     "execution_count": 140,
     "metadata": {},
     "output_type": "execute_result"
    }
   ],
   "source": [
    "v"
   ]
  },
  {
   "cell_type": "markdown",
   "metadata": {},
   "source": [
    "Các phép toán trên vector: trên vector, chúng ta có thể thực hiện phép toán như: lấy \n",
    "sin/cos"
   ]
  },
  {
   "cell_type": "code",
   "execution_count": 141,
   "metadata": {},
   "outputs": [
    {
     "data": {
      "text/plain": [
       "array([11., 12., 13., 14., 15.])"
      ]
     },
     "execution_count": 141,
     "metadata": {},
     "output_type": "execute_result"
    }
   ],
   "source": [
    "v + 10.0"
   ]
  },
  {
   "cell_type": "code",
   "execution_count": 142,
   "metadata": {},
   "outputs": [
    {
     "data": {
      "text/plain": [
       "array([1.        , 1.41421356, 1.73205081, 2.        , 2.23606798])"
      ]
     },
     "execution_count": 142,
     "metadata": {},
     "output_type": "execute_result"
    }
   ],
   "source": [
    "np.sqrt(v)"
   ]
  },
  {
   "cell_type": "code",
   "execution_count": 143,
   "metadata": {},
   "outputs": [
    {
     "data": {
      "text/plain": [
       "array([ 0.54030231, -0.41614684, -0.9899925 , -0.65364362,  0.28366219])"
      ]
     },
     "execution_count": 143,
     "metadata": {},
     "output_type": "execute_result"
    }
   ],
   "source": [
    "np.cos(v)"
   ]
  },
  {
   "cell_type": "code",
   "execution_count": 145,
   "metadata": {},
   "outputs": [
    {
     "data": {
      "text/plain": [
       "array([ 0.84147098,  0.90929743,  0.14112001, -0.7568025 , -0.95892427])"
      ]
     },
     "execution_count": 145,
     "metadata": {},
     "output_type": "execute_result"
    }
   ],
   "source": [
    "np.sin(v)\n"
   ]
  },
  {
   "cell_type": "markdown",
   "metadata": {},
   "source": [
    " Tích vô hướng của hai vector (kết quả là một số)"
   ]
  },
  {
   "cell_type": "code",
   "execution_count": 146,
   "metadata": {},
   "outputs": [
    {
     "data": {
      "text/plain": [
       "80"
      ]
     },
     "execution_count": 146,
     "metadata": {},
     "output_type": "execute_result"
    }
   ],
   "source": [
    "np.dot(v1, v3)"
   ]
  },
  {
   "cell_type": "code",
   "execution_count": 148,
   "metadata": {},
   "outputs": [
    {
     "ename": "AttributeError",
     "evalue": "'list' object has no attribute 'dot'",
     "output_type": "error",
     "traceback": [
      "\u001b[1;31m---------------------------------------------------------------------------\u001b[0m",
      "\u001b[1;31mAttributeError\u001b[0m                            Traceback (most recent call last)",
      "Cell \u001b[1;32mIn[148], line 1\u001b[0m\n\u001b[1;32m----> 1\u001b[0m \u001b[43mv1\u001b[49m\u001b[38;5;241;43m.\u001b[39;49m\u001b[43mdot\u001b[49m(v3)\n\u001b[0;32m      2\u001b[0m v3\u001b[38;5;241m.\u001b[39mdot(v1)\n",
      "\u001b[1;31mAttributeError\u001b[0m: 'list' object has no attribute 'dot'"
     ]
    }
   ],
   "source": [
    "v1.dot(v3) # Lỗi\n",
    "v3.dot(v1) # Lỗi"
   ]
  },
  {
   "cell_type": "markdown",
   "metadata": {},
   "source": [
    "Độ dài (chuẩn 2) và chuẩn 1 của vector (độ dài theo Euclide): \\\n",
    "$\\vec{v_1} = (a,b)$ : $|\\vec{v_1}| = \\sqrt{a^2 + b^2}$ ; $||\\vec{v_1}|| = |a| + |b|$ "
   ]
  },
  {
   "cell_type": "code",
   "execution_count": 149,
   "metadata": {},
   "outputs": [
    {
     "data": {
      "text/plain": [
       "7.416198487095663"
      ]
     },
     "execution_count": 149,
     "metadata": {},
     "output_type": "execute_result"
    }
   ],
   "source": [
    "np.linalg.norm(v)"
   ]
  },
  {
   "cell_type": "markdown",
   "metadata": {},
   "source": [
    "Độ dài (kích thước) của vector"
   ]
  },
  {
   "cell_type": "code",
   "execution_count": 151,
   "metadata": {},
   "outputs": [
    {
     "data": {
      "text/plain": [
       "5"
      ]
     },
     "execution_count": 151,
     "metadata": {},
     "output_type": "execute_result"
    }
   ],
   "source": [
    "len(v)"
   ]
  },
  {
   "cell_type": "markdown",
   "metadata": {},
   "source": [
    "Kết nối các vector"
   ]
  },
  {
   "cell_type": "code",
   "execution_count": 152,
   "metadata": {},
   "outputs": [
    {
     "data": {
      "text/plain": [
       "array([ 1,  2,  3,  4,  5,  5, 10])"
      ]
     },
     "execution_count": 152,
     "metadata": {},
     "output_type": "execute_result"
    }
   ],
   "source": [
    "np.hstack([v, v3])"
   ]
  },
  {
   "cell_type": "markdown",
   "metadata": {},
   "source": [
    "Bài tập thực hành"
   ]
  },
  {
   "cell_type": "code",
   "execution_count": 153,
   "metadata": {},
   "outputs": [
    {
     "data": {
      "text/plain": [
       "array([ -7.,  -9., -11.,   1.,   3.,   5.])"
      ]
     },
     "execution_count": 153,
     "metadata": {},
     "output_type": "execute_result"
    }
   ],
   "source": [
    "def symp(v):\n",
    "    n = len(v) // 2\n",
    "    return np.hstack([-v[-n:], v[:n]])\n",
    "v6 = np.array([1., 3., 5., 7., 9., 11.])\n",
    "v7 = symp(v6)\n",
    "v7\n"
   ]
  },
  {
   "cell_type": "markdown",
   "metadata": {},
   "source": [
    "#### 3.2. Thể hiện ma trận bằng numpy"
   ]
  },
  {
   "cell_type": "markdown",
   "metadata": {},
   "source": [
    "Ma trận được thể hiện trong numpy là nhiều dãy [] trong kiểu khai báo array. \\\n",
    "Ví dụ : ma trận $M_1$ = $\\left[\\begin{matrix} 9 & 12 \\\\ 23 & 30 \\end{matrix}\\right]$ được khai báo như sau :"
   ]
  },
  {
   "cell_type": "code",
   "execution_count": 154,
   "metadata": {},
   "outputs": [
    {
     "data": {
      "text/plain": [
       "array([[ 9, 12],\n",
       "       [23, 30]])"
      ]
     },
     "execution_count": 154,
     "metadata": {},
     "output_type": "execute_result"
    }
   ],
   "source": [
    "M1 = np.array([ [9, 12], [23,30] ])\n",
    "M1"
   ]
  },
  {
   "cell_type": "markdown",
   "metadata": {},
   "source": [
    "Khi đó, giả sử chúng ta có một vector $u = (2,1)$ thì $tích$ giữa hai ma trận và vector $M_1u$ sẽ là :"
   ]
  },
  {
   "cell_type": "code",
   "execution_count": 155,
   "metadata": {},
   "outputs": [
    {
     "data": {
      "text/plain": [
       "array([30, 76])"
      ]
     },
     "execution_count": 155,
     "metadata": {},
     "output_type": "execute_result"
    }
   ],
   "source": [
    "u = np.array([2,1])\n",
    "tichM1u = M1.dot(u)\n",
    "tichM1u"
   ]
  },
  {
   "cell_type": "code",
   "execution_count": 156,
   "metadata": {},
   "outputs": [
    {
     "data": {
      "text/plain": [
       "array([41, 54])"
      ]
     },
     "execution_count": 156,
     "metadata": {},
     "output_type": "execute_result"
    }
   ],
   "source": [
    "tichuM1 = u.dot(M1)\n",
    "tichuM1"
   ]
  },
  {
   "cell_type": "code",
   "execution_count": 158,
   "metadata": {},
   "outputs": [
    {
     "data": {
      "text/plain": [
       "array([30, 76])"
      ]
     },
     "execution_count": 158,
     "metadata": {},
     "output_type": "execute_result"
    }
   ],
   "source": [
    "np.dot(M1, u)"
   ]
  },
  {
   "cell_type": "code",
   "execution_count": 159,
   "metadata": {},
   "outputs": [
    {
     "data": {
      "text/plain": [
       "array([41, 54])"
      ]
     },
     "execution_count": 159,
     "metadata": {},
     "output_type": "execute_result"
    }
   ],
   "source": [
    "np.dot(u, M1)"
   ]
  },
  {
   "cell_type": "markdown",
   "metadata": {},
   "source": [
    "##### Bài tập trên lớp"
   ]
  },
  {
   "cell_type": "markdown",
   "metadata": {},
   "source": [
    "1. \\\n",
    "Lệnh mat1 = $np.zeros([5,5])$ sẽ tạo một ma trận 0 với kích thước $5*5$ \\\n",
    "Cụ thể , mat1 = $\\left[\\begin{matrix} 0 & 0 & 0 & 0 & 0 \\\\ 0 & 0 & 0 & 0 & 0 \\\\ 0 & 0 & 0 & 0 & 0 \\\\ 0 & 0 & 0 & 0 & 0 \\\\ 0 & 0 & 0 & 0 & 0 \\end{matrix} \\right] $"
   ]
  },
  {
   "cell_type": "code",
   "execution_count": 29,
   "metadata": {},
   "outputs": [
    {
     "data": {
      "text/plain": [
       "array([[0., 0., 0., 0., 0.],\n",
       "       [0., 0., 0., 0., 0.],\n",
       "       [0., 0., 0., 0., 0.],\n",
       "       [0., 0., 0., 0., 0.],\n",
       "       [0., 0., 0., 0., 0.]])"
      ]
     },
     "execution_count": 29,
     "metadata": {},
     "output_type": "execute_result"
    }
   ],
   "source": [
    "import numpy as np \n",
    "mat1 = np.zeros([5,5])\n",
    "mat1"
   ]
  },
  {
   "cell_type": "markdown",
   "metadata": {},
   "source": [
    "2. \\\n",
    "Lệnh mat2 = $np.ones([5,5])$ sẽ tạo ra một ma trận có kích thước $5*5$ và có các phần tử bằng $1$  \\\n",
    "Cụ thể , mat2 = $\\left[\\begin{matrix} 1 & 1 & 1 & 1 & 1 \\\\ 1 & 1 & 1 & 1 & 1 \\\\ 1 & 1 & 1 & 1 & 1 \\\\ 1 & 1 & 1 & 1 & 1 \\\\ 1 & 1 & 1 & 1 & 1 \\end{matrix} \\right] $"
   ]
  },
  {
   "cell_type": "code",
   "execution_count": 30,
   "metadata": {},
   "outputs": [
    {
     "data": {
      "text/plain": [
       "array([[1., 1., 1., 1., 1.],\n",
       "       [1., 1., 1., 1., 1.],\n",
       "       [1., 1., 1., 1., 1.],\n",
       "       [1., 1., 1., 1., 1.],\n",
       "       [1., 1., 1., 1., 1.]])"
      ]
     },
     "execution_count": 30,
     "metadata": {},
     "output_type": "execute_result"
    }
   ],
   "source": [
    "mat2 = np.ones([5,5])\n",
    "mat2"
   ]
  },
  {
   "cell_type": "markdown",
   "metadata": {},
   "source": [
    "3. \\\n",
    "Lệnh mat3 = mat1 + 2 * mat2 sẽ tạo ra một ma trận $mat3$ với các phần tử bằng với các phần tử tương ứng của $mat1$ + 2 * các phần tử tương của $mat2$, cụ thể như sau : \\\n",
    "mat3 = $\\left[\\begin{matrix} 0 + 2 * 1 & 0 + 2 * 1 & 0 + 2 * 1 & 0 + 2 * 1 & 0 + 2 * 1 \\\\ 0 + 2 * 1 & 0 + 2 * 1 & 0 + 2 * 1 & 0 + 2 * 1 & 0 + 2 * 1 \\\\ 0 + 2 * 1 & 0 + 2 * 1 & 0 + 2 * 1 & 0 + 2 * 1 & 0 + 2 * 1 \\\\ 0 + 2 * 1 & 0 + 2 * 1 & 0 + 2 * 1 & 0 + 2 * 1 & 0 + 2 * 1 \\\\ 0 + 2 * 1 & 0 + 2 * 1 & 0 + 2 * 1 & 0 + 2 * 1 & 0 + 2 * 1 \\end{matrix} \\right] = \\left[\\begin{matrix} 2 & 2 & 2 & 2 & 2 \\\\ 2 & 2 & 2 & 2 & 2 \\\\ 2 & 2 & 2 & 2 & 2 \\\\ 2 & 2 & 2 & 2 & 2 \\\\ 2 & 2 & 2 & 2 & 2 \\end{matrix} \\right]  $\n"
   ]
  },
  {
   "cell_type": "code",
   "execution_count": 31,
   "metadata": {},
   "outputs": [
    {
     "name": "stdout",
     "output_type": "stream",
     "text": [
      "[[2. 2. 2. 2. 2.]\n",
      " [2. 2. 2. 2. 2.]\n",
      " [2. 2. 2. 2. 2.]\n",
      " [2. 2. 2. 2. 2.]\n",
      " [2. 2. 2. 2. 2.]]\n"
     ]
    }
   ],
   "source": [
    "mat3 = mat1 + 2*mat2\n",
    "print(mat3)"
   ]
  },
  {
   "cell_type": "markdown",
   "metadata": {},
   "source": [
    "4. \\\n",
    "Lệnh mat4 = mat3 sẽ tạo ra một ma trận có các phần tử bằng với mat3. Khi một phần tử thay đổi trên mat3 thì phần tử tại vị trí tương ứng trong mat4 sẽ thay đổi theo bởi vì mat4 đang lưu địa chỉ của mat3 nên khi mat3 thay đổi thì mat4 sẽ thay đổi"
   ]
  },
  {
   "cell_type": "code",
   "execution_count": 32,
   "metadata": {},
   "outputs": [
    {
     "name": "stdout",
     "output_type": "stream",
     "text": [
      "mat3 \n",
      " [[ 2.  2.  2.  2.  2.]\n",
      " [ 2.  2.  2.  2.  2.]\n",
      " [ 2.  2.  2.  2.  2.]\n",
      " [ 2.  2. 10.  2.  2.]\n",
      " [ 2.  2.  2.  2.  2.]]\n",
      "mat4\n",
      " [[ 2.  2.  2.  2.  2.]\n",
      " [ 2.  2.  2.  2.  2.]\n",
      " [ 2.  2.  2.  2.  2.]\n",
      " [ 2.  2. 10.  2.  2.]\n",
      " [ 2.  2.  2.  2.  2.]]\n"
     ]
    }
   ],
   "source": [
    "mat4 = mat3\n",
    "mat3[3][2] = 10\n",
    "print(\"mat3\", '\\n' ,mat3)\n",
    "print('mat4\\n',mat4)"
   ]
  },
  {
   "cell_type": "markdown",
   "metadata": {},
   "source": [
    "5. \\\n",
    "Lệnh $mat5 = np.copy(mat3)$ sẽ tạo ra một ma trận $mat5$ là bản sao của $mat3$. Khi thay đổi trên $mat3$ sẽ không ảnh hưởng đến $mat5$"
   ]
  },
  {
   "cell_type": "code",
   "execution_count": 33,
   "metadata": {},
   "outputs": [
    {
     "name": "stdout",
     "output_type": "stream",
     "text": [
      "mat3\n",
      " [[2. 2. 2. 2. 2.]\n",
      " [2. 2. 2. 2. 2.]\n",
      " [2. 2. 2. 2. 2.]\n",
      " [2. 2. 8. 2. 2.]\n",
      " [2. 2. 2. 2. 2.]]\n",
      "mat4\n",
      " [[2. 2. 2. 2. 2.]\n",
      " [2. 2. 2. 2. 2.]\n",
      " [2. 2. 2. 2. 2.]\n",
      " [2. 2. 8. 2. 2.]\n",
      " [2. 2. 2. 2. 2.]]\n",
      "mat5\n",
      " [[ 2.  2.  2.  2.  2.]\n",
      " [ 2.  2.  2.  2.  2.]\n",
      " [ 2.  2.  2.  2.  2.]\n",
      " [ 2.  2. 10.  2.  2.]\n",
      " [ 2.  2.  2.  2.  2.]]\n"
     ]
    }
   ],
   "source": [
    "mat5 = np.copy(mat3)\n",
    "mat3[3][2] = 8\n",
    "print(\"mat3\\n\" , mat3)\n",
    "print(\"mat4\\n\", mat4)\n",
    "print(\"mat5\\n\", mat5)"
   ]
  },
  {
   "cell_type": "markdown",
   "metadata": {},
   "source": [
    "6. \\\n",
    "Lệnh $mat6 = np.empty([4,5])$ sẽ tạo ra một ma trận $mat6$ với kích thước là 4*5 và các phần tử trong ma trận là ngẫu nhiên hoặc các giá trị từ bộ nhớ hiện tại"
   ]
  },
  {
   "cell_type": "code",
   "execution_count": 34,
   "metadata": {},
   "outputs": [
    {
     "data": {
      "text/plain": [
       "array([[6.23042070e-307, 4.67296746e-307, 1.69121096e-306,\n",
       "        3.22647253e-307, 1.89146896e-307],\n",
       "       [7.56571288e-307, 3.11525958e-307, 1.24610723e-306,\n",
       "        1.37962320e-306, 1.29060871e-306],\n",
       "       [2.22518251e-306, 1.33511969e-306, 1.78022342e-306,\n",
       "        1.05700345e-307, 3.11525958e-307],\n",
       "       [1.69118108e-306, 8.06632139e-308, 1.20160711e-306,\n",
       "        1.69119330e-306, 1.29062229e-306]])"
      ]
     },
     "execution_count": 34,
     "metadata": {},
     "output_type": "execute_result"
    }
   ],
   "source": [
    "mat6 = np.empty([4,5])\n",
    "mat6"
   ]
  },
  {
   "cell_type": "markdown",
   "metadata": {},
   "source": [
    "7. \\\n",
    "Lệnh $mat7 = np.identity(4)$ sẽ tạo một ma trận đơn vị $4*4$ \\\n",
    "Cụ thể , mat7 = $\\left[\\begin{matrix} 1 & 0 & 0 & 0 \\\\ 0 & 1 & 0 & 0 \\\\ 0 & 0 & 1 & 0 \\\\ 0 & 0 & 0 & 1 \\end{matrix} \\right] $"
   ]
  },
  {
   "cell_type": "code",
   "execution_count": 35,
   "metadata": {},
   "outputs": [
    {
     "data": {
      "text/plain": [
       "array([[1., 0., 0., 0.],\n",
       "       [0., 1., 0., 0.],\n",
       "       [0., 0., 1., 0.],\n",
       "       [0., 0., 0., 1.]])"
      ]
     },
     "execution_count": 35,
     "metadata": {},
     "output_type": "execute_result"
    }
   ],
   "source": [
    "mat7 = np.identity(4)\n",
    "mat7"
   ]
  },
  {
   "cell_type": "markdown",
   "metadata": {},
   "source": [
    "8. \\\n",
    "Lệnh $mat8 = np.random.random([4,5])$ sẽ tạo ra một ma trận kích thước $4*5$ và các phần tử trong ma trận là ngẫu nhiên"
   ]
  },
  {
   "cell_type": "code",
   "execution_count": 36,
   "metadata": {},
   "outputs": [
    {
     "data": {
      "text/plain": [
       "array([[0.64247543, 0.02874175, 0.42861877, 0.96396317, 0.42823961],\n",
       "       [0.42930769, 0.03177833, 0.08662151, 0.67226185, 0.32887796],\n",
       "       [0.63588536, 0.63132839, 0.13023494, 0.77879982, 0.88648123],\n",
       "       [0.54148634, 0.19083888, 0.23320687, 0.71506189, 0.96100693]])"
      ]
     },
     "execution_count": 36,
     "metadata": {},
     "output_type": "execute_result"
    }
   ],
   "source": [
    "mat8 = np.random.random([4,5])\n",
    "mat8"
   ]
  },
  {
   "cell_type": "markdown",
   "metadata": {},
   "source": [
    "### 5. Tài nguyên Python trên mạng về tính toán đại số"
   ]
  },
  {
   "cell_type": "code",
   "execution_count": 171,
   "metadata": {},
   "outputs": [
    {
     "data": {
      "text/latex": [
       "$\\displaystyle \\left[\\begin{matrix}1 & 3\\\\2 & 4\\end{matrix}\\right]$"
      ],
      "text/plain": [
       "Matrix([\n",
       "[1, 3],\n",
       "[2, 4]])"
      ]
     },
     "execution_count": 171,
     "metadata": {},
     "output_type": "execute_result"
    }
   ],
   "source": [
    "import sympy as sp\n",
    "M = sp.Matrix([[1, 3], [2, 4]])\n",
    "M"
   ]
  },
  {
   "cell_type": "code",
   "execution_count": 172,
   "metadata": {},
   "outputs": [
    {
     "data": {
      "text/latex": [
       "$\\displaystyle -2$"
      ],
      "text/plain": [
       "-2"
      ]
     },
     "execution_count": 172,
     "metadata": {},
     "output_type": "execute_result"
    }
   ],
   "source": [
    "M.det()"
   ]
  },
  {
   "cell_type": "code",
   "execution_count": 175,
   "metadata": {},
   "outputs": [
    {
     "ename": "ShapeError",
     "evalue": "",
     "output_type": "error",
     "traceback": [
      "\u001b[1;31m---------------------------------------------------------------------------\u001b[0m",
      "\u001b[1;31mShapeError\u001b[0m                                Traceback (most recent call last)",
      "Cell \u001b[1;32mIn[175], line 2\u001b[0m\n\u001b[0;32m      1\u001b[0m v1 \u001b[38;5;241m=\u001b[39m sp\u001b[38;5;241m.\u001b[39mMatrix([\u001b[38;5;241m5\u001b[39m,\u001b[38;5;241m7\u001b[39m])\n\u001b[1;32m----> 2\u001b[0m \u001b[43mM\u001b[49m\u001b[38;5;241;43m.\u001b[39;49m\u001b[43mdot\u001b[49m\u001b[43m(\u001b[49m\u001b[43mv1\u001b[49m\u001b[43m)\u001b[49m\n",
      "File \u001b[1;32mc:\\Users\\ADMIN\\AppData\\Local\\Programs\\Python\\Python312\\Lib\\site-packages\\sympy\\matrices\\matrices.py:1373\u001b[0m, in \u001b[0;36mMatrixBase.dot\u001b[1;34m(self, b, hermitian, conjugate_convention)\u001b[0m\n\u001b[0;32m   1368\u001b[0m         \u001b[38;5;28;01mraise\u001b[39;00m \u001b[38;5;167;01mTypeError\u001b[39;00m(\n\u001b[0;32m   1369\u001b[0m             \u001b[38;5;124m\"\u001b[39m\u001b[38;5;124m`b` must be an ordered iterable or Matrix, not \u001b[39m\u001b[38;5;132;01m%s\u001b[39;00m\u001b[38;5;124m.\u001b[39m\u001b[38;5;124m\"\u001b[39m \u001b[38;5;241m%\u001b[39m\n\u001b[0;32m   1370\u001b[0m             \u001b[38;5;28mtype\u001b[39m(b))\n\u001b[0;32m   1372\u001b[0m \u001b[38;5;28;01mif\u001b[39;00m (\u001b[38;5;241m1\u001b[39m \u001b[38;5;129;01mnot\u001b[39;00m \u001b[38;5;129;01min\u001b[39;00m \u001b[38;5;28mself\u001b[39m\u001b[38;5;241m.\u001b[39mshape) \u001b[38;5;129;01mor\u001b[39;00m (\u001b[38;5;241m1\u001b[39m \u001b[38;5;129;01mnot\u001b[39;00m \u001b[38;5;129;01min\u001b[39;00m b\u001b[38;5;241m.\u001b[39mshape):\n\u001b[1;32m-> 1373\u001b[0m     \u001b[38;5;28;01mraise\u001b[39;00m ShapeError\n\u001b[0;32m   1374\u001b[0m \u001b[38;5;28;01mif\u001b[39;00m \u001b[38;5;28mlen\u001b[39m(\u001b[38;5;28mself\u001b[39m) \u001b[38;5;241m!=\u001b[39m \u001b[38;5;28mlen\u001b[39m(b):\n\u001b[0;32m   1375\u001b[0m     \u001b[38;5;28;01mraise\u001b[39;00m ShapeError(\n\u001b[0;32m   1376\u001b[0m         \u001b[38;5;124m\"\u001b[39m\u001b[38;5;124mDimensions incorrect for dot product: \u001b[39m\u001b[38;5;132;01m%s\u001b[39;00m\u001b[38;5;124m, \u001b[39m\u001b[38;5;132;01m%s\u001b[39;00m\u001b[38;5;124m\"\u001b[39m \u001b[38;5;241m%\u001b[39m (\u001b[38;5;28mself\u001b[39m\u001b[38;5;241m.\u001b[39mshape, b\u001b[38;5;241m.\u001b[39mshape))\n",
      "\u001b[1;31mShapeError\u001b[0m: "
     ]
    }
   ],
   "source": [
    "v1 = sp.Matrix([5,7])\n",
    "M.dot(v1)"
   ]
  },
  {
   "cell_type": "markdown",
   "metadata": {},
   "source": [
    "### Bài tập chương 1"
   ]
  },
  {
   "cell_type": "markdown",
   "metadata": {},
   "source": [
    "Bài 1"
   ]
  },
  {
   "cell_type": "code",
   "execution_count": 37,
   "metadata": {},
   "outputs": [
    {
     "name": "stdout",
     "output_type": "stream",
     "text": [
      "Diem trung binh cua tung hoc sinh\n",
      "['A', 7.0]\n",
      "['B', 5.8]\n",
      "['C', 6.5]\n",
      "['D', 5.3]\n",
      "['E', 7.9]\n",
      "['F', 8.5]\n",
      "Danh sach sinh vien qua mon \n",
      "A\n",
      "B\n",
      "C\n",
      "D\n",
      "E\n",
      "F\n"
     ]
    }
   ],
   "source": [
    "matrix = np.array([[7,8,9,5],[8,7,4,6],[7,5,8,6],[6,8,5,4],[9,9,8,7],[10,8,9,8]])\n",
    "matrix.shape\n",
    "percent = [0.1, 0.2, 0.3, 0.4]\n",
    "AVG = np.dot(matrix,percent)\n",
    "# print(AVG)\n",
    "resume = []\n",
    "passed = []\n",
    "for i in range (len(AVG)):\n",
    "    resume.append([chr(ord('A')+i),round(AVG[i],2)])\n",
    "    if AVG[i] >= 5 :\n",
    "        passed.append(chr(ord('A')+i))\n",
    "print(\"Diem trung binh cua tung hoc sinh\")\n",
    "for student in resume :\n",
    "    print(student)\n",
    "print(\"Danh sach sinh vien qua mon \")\n",
    "for student in passed :\n",
    "    print(student) "
   ]
  },
  {
   "cell_type": "markdown",
   "metadata": {},
   "source": [
    "Bài 2 "
   ]
  },
  {
   "cell_type": "code",
   "execution_count": 38,
   "metadata": {},
   "outputs": [
    {
     "name": "stdout",
     "output_type": "stream",
     "text": [
      "Matrix 1 : \n",
      " [[5 4 4]\n",
      " [6 1 5]\n",
      " [0 0 9]]\n",
      "Matrix 2 : \n",
      " [[5 2 0]\n",
      " [0 0 3]\n",
      " [3 1 0]]\n"
     ]
    }
   ],
   "source": [
    "# Sinh ngẫu nhiên ma trận 3*3 và có các phần tử nguyên từ 0 đến 10\n",
    "matrix_random1 = np.random.randint(0,10,size=(3,3))\n",
    "matrix_random2 = np.random.randint(0,10,size=(3,3))\n",
    "print(\"Matrix 1 : \\n\",matrix_random1)\n",
    "print(\"Matrix 2 : \\n\", matrix_random2)"
   ]
  },
  {
   "cell_type": "markdown",
   "metadata": {},
   "source": [
    "- a) Tính tổng phần tử của mỗi ma trận "
   ]
  },
  {
   "cell_type": "code",
   "execution_count": 39,
   "metadata": {},
   "outputs": [
    {
     "name": "stdout",
     "output_type": "stream",
     "text": [
      "Tong phan tu cua ma tran 1 :  34\n",
      "Tong phan tu cua ma tran 2 :  14\n"
     ]
    }
   ],
   "source": [
    "sum_mat1 = sum(sum(matrix_random1))\n",
    "sum_mat2 = sum(sum(matrix_random2))\n",
    "print(\"Tong phan tu cua ma tran 1 : \", sum_mat1)\n",
    "print(\"Tong phan tu cua ma tran 2 : \", sum_mat2)"
   ]
  },
  {
   "cell_type": "markdown",
   "metadata": {},
   "source": [
    "- b)  So sánh norm của vector hàng 1 và vector hàng 3 của hai ma trận"
   ]
  },
  {
   "cell_type": "code",
   "execution_count": 42,
   "metadata": {},
   "outputs": [
    {
     "name": "stdout",
     "output_type": "stream",
     "text": [
      "Mat1_row1 :  7.54983443527075\n",
      "Mat1_row3 :  9.0\n",
      "Mat2_row1 :  5.385164807134504\n",
      "Mat2_row3 :  3.1622776601683795\n",
      "Math1_row1 < Mat1_row3\n",
      "Mat2_row1 > Mat2_row3\n"
     ]
    }
   ],
   "source": [
    "mat1_row1 = np.linalg.norm(matrix_random1[0])\n",
    "mat1_row3 = np.linalg.norm(matrix_random1[2])\n",
    "mat2_row1 = np.linalg.norm(matrix_random2[0])\n",
    "mat2_row3 = np.linalg.norm(matrix_random2[2])\n",
    "print(\"Mat1_row1 : \",mat1_row1)\n",
    "print(\"Mat1_row3 : \",mat1_row3)\n",
    "print(\"Mat2_row1 : \",mat2_row1)\n",
    "print(\"Mat2_row3 : \",mat2_row3)\n",
    "\n",
    "# So sanh\n",
    "if mat1_row1 > mat1_row3 :\n",
    "    print(\"Mat1_row1 > Mat1_row3 \")\n",
    "elif mat1_row1 < mat1_row3 :\n",
    "    print(\"Math1_row1 < Mat1_row3\")\n",
    "else:\n",
    "    print(\"Math1_row1 = Mat1_row3\")\n",
    "\n",
    "if mat2_row1 > mat2_row3 :\n",
    "    print(\"Mat2_row1 > Mat2_row3\")\n",
    "elif mat2_row1 < mat2_row3 :\n",
    "    print(\"Mat1_row3 < Mat2_row3\")\n",
    "else:\n",
    "    print(\"Mat2_row1 = Mat2_row3\")"
   ]
  },
  {
   "cell_type": "markdown",
   "metadata": {},
   "source": [
    "- c) Tìm ma trận C, D, E là tổng, hiệu, tích của hai ma trận trên."
   ]
  },
  {
   "cell_type": "code",
   "execution_count": 43,
   "metadata": {},
   "outputs": [
    {
     "name": "stdout",
     "output_type": "stream",
     "text": [
      "C\n",
      " [[10  6  4]\n",
      " [ 6  1  8]\n",
      " [ 3  1  9]]\n",
      "D\n",
      " [[ 0  2  4]\n",
      " [ 6  1  2]\n",
      " [-3 -1  9]]\n",
      "E\n",
      " [[37 14 12]\n",
      " [45 17  3]\n",
      " [27  9  0]]\n"
     ]
    }
   ],
   "source": [
    "# Tổng của hai ma trận \n",
    "C = matrix_random1 + matrix_random2\n",
    "# Hiệu của hai ma trận\n",
    "D = matrix_random1 - matrix_random2\n",
    "# Tích hai ma trận\n",
    "E = np.dot(matrix_random1,matrix_random2)\n",
    "print(\"C\\n\", C)\n",
    "print(\"D\\n\",D)\n",
    "print(\"E\\n\",E)"
   ]
  },
  {
   "cell_type": "markdown",
   "metadata": {},
   "source": [
    "Bài 3"
   ]
  },
  {
   "cell_type": "code",
   "execution_count": 44,
   "metadata": {},
   "outputs": [
    {
     "name": "stdout",
     "output_type": "stream",
     "text": [
      "[  0.   5.  10.  15.  20.  25.  30.  35.  40.  45.  50.  55.  60.  65.\n",
      "  70.  75.  80.  85.  90.  95. 100.]\n"
     ]
    }
   ],
   "source": [
    "# Sinh vector\n",
    "vector1 = np.linspace(0,100,21)\n",
    "print(vector1)"
   ]
  },
  {
   "cell_type": "markdown",
   "metadata": {},
   "source": [
    "- a) Dùng lệnh split, chia nhỏ vector kia ra thành 3 vector con, đặt là u, v, w"
   ]
  },
  {
   "cell_type": "code",
   "execution_count": 45,
   "metadata": {},
   "outputs": [
    {
     "name": "stdout",
     "output_type": "stream",
     "text": [
      "u\n",
      " [ 0.  5. 10. 15. 20. 25. 30.]\n",
      "v\n",
      " [35. 40. 45. 50. 55. 60. 65.]\n",
      "w\n",
      " [ 70.  75.  80.  85.  90.  95. 100.]\n"
     ]
    }
   ],
   "source": [
    "u,v,w = np.split(vector1,3)\n",
    "print(\"u\\n\", u)\n",
    "print(\"v\\n\",v)\n",
    "print(\"w\\n\",w)"
   ]
  },
  {
   "cell_type": "markdown",
   "metadata": {},
   "source": [
    "- b) Tính $u*v$ và $v.dot(w)$"
   ]
  },
  {
   "cell_type": "code",
   "execution_count": 46,
   "metadata": {},
   "outputs": [
    {
     "name": "stdout",
     "output_type": "stream",
     "text": [
      "u*v\n",
      " [   0.  200.  450.  750. 1100. 1500. 1950.]\n",
      "v.dot(w)\n",
      " 30450.0\n"
     ]
    }
   ],
   "source": [
    "mat_res = u*v\n",
    "mat_res1 = v.dot(w)\n",
    "print(\"u*v\\n\",mat_res)\n",
    "print(\"v.dot(w)\\n\",mat_res1) "
   ]
  },
  {
   "cell_type": "markdown",
   "metadata": {},
   "source": [
    "- c) Tính shape của u trước và sau khi transpose, nhận xét."
   ]
  },
  {
   "cell_type": "markdown",
   "metadata": {},
   "source": [
    "transpose chỉ chuyển vị ma trận , không làm thay đổi kích thước của ma trận nên shape của u trước và sau khi transpose bằng nhau"
   ]
  },
  {
   "cell_type": "code",
   "execution_count": 56,
   "metadata": {},
   "outputs": [
    {
     "name": "stdout",
     "output_type": "stream",
     "text": [
      "(7,) (7,)\n"
     ]
    }
   ],
   "source": [
    "before_u = u.shape\n",
    "u.transpose()\n",
    "after_u = u.shape\n",
    "print(before_u, after_u)"
   ]
  }
 ],
 "metadata": {
  "kernelspec": {
   "display_name": "Python 3",
   "language": "python",
   "name": "python3"
  },
  "language_info": {
   "codemirror_mode": {
    "name": "ipython",
    "version": 3
   },
   "file_extension": ".py",
   "mimetype": "text/x-python",
   "name": "python",
   "nbconvert_exporter": "python",
   "pygments_lexer": "ipython3",
   "version": "3.12.1"
  }
 },
 "nbformat": 4,
 "nbformat_minor": 2
}
