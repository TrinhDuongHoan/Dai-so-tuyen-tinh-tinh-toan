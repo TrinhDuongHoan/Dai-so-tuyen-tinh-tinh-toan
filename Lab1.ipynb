{
 "cells": [
  {
   "cell_type": "markdown",
   "metadata": {},
   "source": [
    "### Một số lưu ý về lập trình Python với đại số tuyến tính"
   ]
  },
  {
   "cell_type": "markdown",
   "metadata": {},
   "source": [
    "##### 1.3.   Các phép xử lí với danh sách "
   ]
  },
  {
   "cell_type": "code",
   "execution_count": 21,
   "metadata": {},
   "outputs": [],
   "source": [
    "# Khởi tạo danh sách\n",
    "danhsach1 = [1,2,3]\n",
    "danhsach2 = [5,6,7]"
   ]
  },
  {
   "cell_type": "code",
   "execution_count": 22,
   "metadata": {},
   "outputs": [
    {
     "data": {
      "text/plain": [
       "[1, 2, 3, 5, 6, 7]"
      ]
     },
     "execution_count": 22,
     "metadata": {},
     "output_type": "execute_result"
    }
   ],
   "source": [
    "# Nối 2 danh sách bằng toán tử +\n",
    "danhsach = danhsach1 + danhsach2\n",
    "danhsach"
   ]
  },
  {
   "cell_type": "code",
   "execution_count": 23,
   "metadata": {},
   "outputs": [
    {
     "data": {
      "text/plain": [
       "[1, 2, 3, 5, 6, 7, 1, 2, 3, 5, 6, 7]"
      ]
     },
     "execution_count": 23,
     "metadata": {},
     "output_type": "execute_result"
    }
   ],
   "source": [
    "# Gấp đôi danh sách\n",
    "danhsach_gapdoi = 2*danhsach\n",
    "danhsach_gapdoi"
   ]
  },
  {
   "cell_type": "code",
   "execution_count": 24,
   "metadata": {},
   "outputs": [
    {
     "data": {
      "text/plain": [
       "[1, 2, 3, 5, 6, 7, 1, 2, 3, 5, 6, 7]"
      ]
     },
     "execution_count": 24,
     "metadata": {},
     "output_type": "execute_result"
    }
   ],
   "source": [
    "danhsach*2"
   ]
  },
  {
   "cell_type": "code",
   "execution_count": 26,
   "metadata": {},
   "outputs": [
    {
     "ename": "TypeError",
     "evalue": "unsupported operand type(s) for /: 'list' and 'int'",
     "output_type": "error",
     "traceback": [
      "\u001b[1;31m---------------------------------------------------------------------------\u001b[0m",
      "\u001b[1;31mTypeError\u001b[0m                                 Traceback (most recent call last)",
      "Cell \u001b[1;32mIn[26], line 1\u001b[0m\n\u001b[1;32m----> 1\u001b[0m \u001b[43mdanhsach\u001b[49m\u001b[43m \u001b[49m\u001b[38;5;241;43m/\u001b[39;49m\u001b[43m \u001b[49m\u001b[38;5;241;43m2\u001b[39;49m \u001b[38;5;66;03m# Chương trình sẽ thông báo lỗi vì không thể chia list cho một số nguyên\u001b[39;00m\n",
      "\u001b[1;31mTypeError\u001b[0m: unsupported operand type(s) for /: 'list' and 'int'"
     ]
    }
   ],
   "source": [
    "danhsach / 2 # Chương trình sẽ thông báo lỗi vì không thể chia list cho một số nguyên"
   ]
  },
  {
   "cell_type": "code",
   "execution_count": 38,
   "metadata": {},
   "outputs": [
    {
     "data": {
      "text/plain": [
       "<zip at 0x19ff7d0d780>"
      ]
     },
     "execution_count": 38,
     "metadata": {},
     "output_type": "execute_result"
    }
   ],
   "source": [
    "# Ghép các danh sách bằng lệnh zip\n",
    "mon_hoc = [\"ToanCC\", \"DSTT\", \"ToanRR\", \"LaptrinhCB\"]\n",
    "thu_tu = [2, 3, 4, 1]\n",
    "diem_so = [10, 9, 8, 7]\n",
    "anh_xa = zip(thu_tu, mon_hoc, diem_so)\n",
    "anh_xa ## anh_xa la mot doi tuong zip\n"
   ]
  },
  {
   "cell_type": "code",
   "execution_count": 34,
   "metadata": {},
   "outputs": [
    {
     "data": {
      "text/plain": [
       "{(1, 'LaptrinhCB', 7), (2, 'ToanCC', 10), (3, 'DSTT', 9), (4, 'ToanRR', 8)}"
      ]
     },
     "execution_count": 34,
     "metadata": {},
     "output_type": "execute_result"
    }
   ],
   "source": [
    "tap_hop = set(anh_xa) # Chuyển zip thành dạng tập hợp\n",
    "tap_hop"
   ]
  },
  {
   "cell_type": "code",
   "execution_count": 39,
   "metadata": {},
   "outputs": [
    {
     "data": {
      "text/plain": [
       "('ToanCC', 'DSTT', 'ToanRR', 'LaptrinhCB')"
      ]
     },
     "execution_count": 39,
     "metadata": {},
     "output_type": "execute_result"
    }
   ],
   "source": [
    "# Phân rã đối tượng zip\n",
    "lay_TT , lay_monhoc , lay_diem = zip(*anh_xa)\n",
    "lay_monhoc"
   ]
  },
  {
   "cell_type": "markdown",
   "metadata": {},
   "source": [
    "* Xây dựng danh sách: Bên cạnh những cách khai báo danh sách thông thường như: khai báo\n",
    "sẵn hoặc khai báo list rỗng rồi bổ sung phần tử bằng lệnh append, cơ chế sinh tập hợp list\n",
    "trong Python còn có thể thực hiện bằng các cách sau:"
   ]
  },
  {
   "cell_type": "code",
   "execution_count": 40,
   "metadata": {},
   "outputs": [
    {
     "data": {
      "text/plain": [
       "[0, 1, 2, 3, 5, 6, 7, 8, 9, 15, 16, 17, 18, 19]"
      ]
     },
     "execution_count": 40,
     "metadata": {},
     "output_type": "execute_result"
    }
   ],
   "source": [
    "import itertools\n",
    "tap_sinh = list(itertools.chain(range(4), range(5,10), range(15,20)))\n",
    "tap_sinh"
   ]
  },
  {
   "cell_type": "code",
   "execution_count": 41,
   "metadata": {},
   "outputs": [
    {
     "data": {
      "text/plain": [
       "[(0, 7, 10), (1, 8, 9), (2, 9, 8), (3, 10, 7)]"
      ]
     },
     "execution_count": 41,
     "metadata": {},
     "output_type": "execute_result"
    }
   ],
   "source": [
    "# Tạo ra tập sinh nhiều chiều\n",
    "list(zip(range(4), range(7, 12), reversed(range(11) ) ) )"
   ]
  },
  {
   "cell_type": "markdown",
   "metadata": {},
   "source": [
    "##### 1.4. Lệnh thực thi một tập tin python"
   ]
  },
  {
   "cell_type": "code",
   "execution_count": 43,
   "metadata": {},
   "outputs": [
    {
     "name": "stdout",
     "output_type": "stream",
     "text": [
      "hello\n"
     ]
    }
   ],
   "source": [
    "execfile('test.py')\n"
   ]
  },
  {
   "cell_type": "markdown",
   "metadata": {},
   "source": [
    "### Bài tập trên lớp"
   ]
  },
  {
   "cell_type": "markdown",
   "metadata": {},
   "source": [
    "1. \\\n",
    "Lệnh mat1 = $np.zeros([5,5])$ sẽ tạo một ma trận 0 với kích thước $5*5$ \\\n",
    "Cụ thể , mat1 = $\\left[\\begin{matrix} 0 & 0 & 0 & 0 & 0 \\\\ 0 & 0 & 0 & 0 & 0 \\\\ 0 & 0 & 0 & 0 & 0 \\\\ 0 & 0 & 0 & 0 & 0 \\\\ 0 & 0 & 0 & 0 & 0 \\end{matrix} \\right] $"
   ]
  },
  {
   "cell_type": "code",
   "execution_count": 3,
   "metadata": {},
   "outputs": [
    {
     "data": {
      "text/plain": [
       "array([[0., 0., 0., 0., 0.],\n",
       "       [0., 0., 0., 0., 0.],\n",
       "       [0., 0., 0., 0., 0.],\n",
       "       [0., 0., 0., 0., 0.],\n",
       "       [0., 0., 0., 0., 0.]])"
      ]
     },
     "execution_count": 3,
     "metadata": {},
     "output_type": "execute_result"
    }
   ],
   "source": [
    "import numpy as np \n",
    "mat1 = np.zeros([5,5])\n",
    "mat1"
   ]
  },
  {
   "cell_type": "markdown",
   "metadata": {},
   "source": [
    "2. \\\n",
    "Lệnh mat2 = $np.ones([5,5])$ sẽ tạo ra một ma trận có kích thước $5*5$ và có các phần tử bằng $1$  \\\n",
    "Cụ thể , mat2 = $\\left[\\begin{matrix} 1 & 1 & 1 & 1 & 1 \\\\ 1 & 1 & 1 & 1 & 1 \\\\ 1 & 1 & 1 & 1 & 1 \\\\ 1 & 1 & 1 & 1 & 1 \\\\ 1 & 1 & 1 & 1 & 1 \\end{matrix} \\right] $"
   ]
  },
  {
   "cell_type": "code",
   "execution_count": 4,
   "metadata": {},
   "outputs": [
    {
     "data": {
      "text/plain": [
       "array([[1., 1., 1., 1., 1.],\n",
       "       [1., 1., 1., 1., 1.],\n",
       "       [1., 1., 1., 1., 1.],\n",
       "       [1., 1., 1., 1., 1.],\n",
       "       [1., 1., 1., 1., 1.]])"
      ]
     },
     "execution_count": 4,
     "metadata": {},
     "output_type": "execute_result"
    }
   ],
   "source": [
    "mat2 = np.ones([5,5])\n",
    "mat2"
   ]
  },
  {
   "cell_type": "markdown",
   "metadata": {},
   "source": [
    "3. \\\n",
    "Lệnh mat3 = mat1 + 2 * mat2 sẽ tạo ra một ma trận $mat3$ với các phần tử bằng với các phần tử tương ứng của $mat1$ + 2 * các phần tử tương của $mat2$, cụ thể như sau : \\\n",
    "mat3 = $\\left[\\begin{matrix} 0 + 2 * 1 & 0 + 2 * 1 & 0 + 2 * 1 & 0 + 2 * 1 & 0 + 2 * 1 \\\\ 0 + 2 * 1 & 0 + 2 * 1 & 0 + 2 * 1 & 0 + 2 * 1 & 0 + 2 * 1 \\\\ 0 + 2 * 1 & 0 + 2 * 1 & 0 + 2 * 1 & 0 + 2 * 1 & 0 + 2 * 1 \\\\ 0 + 2 * 1 & 0 + 2 * 1 & 0 + 2 * 1 & 0 + 2 * 1 & 0 + 2 * 1 \\\\ 0 + 2 * 1 & 0 + 2 * 1 & 0 + 2 * 1 & 0 + 2 * 1 & 0 + 2 * 1 \\end{matrix} \\right] = \\left[\\begin{matrix} 2 & 2 & 2 & 2 & 2 \\\\ 2 & 2 & 2 & 2 & 2 \\\\ 2 & 2 & 2 & 2 & 2 \\\\ 2 & 2 & 2 & 2 & 2 \\\\ 2 & 2 & 2 & 2 & 2 \\end{matrix} \\right]  $\n"
   ]
  },
  {
   "cell_type": "code",
   "execution_count": 5,
   "metadata": {},
   "outputs": [
    {
     "name": "stdout",
     "output_type": "stream",
     "text": [
      "[[2. 2. 2. 2. 2.]\n",
      " [2. 2. 2. 2. 2.]\n",
      " [2. 2. 2. 2. 2.]\n",
      " [2. 2. 2. 2. 2.]\n",
      " [2. 2. 2. 2. 2.]]\n"
     ]
    }
   ],
   "source": [
    "mat3 = mat1 + 2*mat2\n",
    "print(mat3)"
   ]
  },
  {
   "cell_type": "markdown",
   "metadata": {},
   "source": [
    "4. \\\n",
    "Lệnh mat4 = mat3 sẽ tạo ra một ma trận có các phần tử bằng với mat3. Khi một phần tử thay đổi trên mat3 thì phần tử tại vị trí tương ứng trong mat4 sẽ thay đổi theo bởi vì mat4 đang lưu địa chỉ của mat3 nên khi mat3 thay đổi thì mat4 sẽ thay đổi"
   ]
  },
  {
   "cell_type": "code",
   "execution_count": 10,
   "metadata": {},
   "outputs": [
    {
     "name": "stdout",
     "output_type": "stream",
     "text": [
      "mat3 \n",
      " [[ 2.  2.  2.  2.  2.]\n",
      " [ 2.  2.  2.  2.  2.]\n",
      " [ 2.  2.  2.  2.  2.]\n",
      " [ 2.  2. 10.  2.  2.]\n",
      " [ 2.  2.  2.  2.  2.]]\n",
      "mat4\n",
      " [[ 2.  2.  2.  2.  2.]\n",
      " [ 2.  2.  2.  2.  2.]\n",
      " [ 2.  2.  2.  2.  2.]\n",
      " [ 2.  2. 10.  2.  2.]\n",
      " [ 2.  2.  2.  2.  2.]]\n"
     ]
    }
   ],
   "source": [
    "mat4 = mat3\n",
    "mat3[3][2] = 10\n",
    "print(\"mat3\", '\\n' ,mat3)\n",
    "print('mat4\\n',mat4)"
   ]
  },
  {
   "cell_type": "markdown",
   "metadata": {},
   "source": [
    "5. \\\n",
    "Lệnh $mat5 = np.copy(mat3)$ sẽ tạo ra một ma trận $mat5$ là bản sao của $mat3$. Khi thay đổi trên $mat3$ sẽ không ảnh hưởng đến $mat5$"
   ]
  },
  {
   "cell_type": "code",
   "execution_count": 11,
   "metadata": {},
   "outputs": [
    {
     "name": "stdout",
     "output_type": "stream",
     "text": [
      "mat3\n",
      " [[2. 2. 2. 2. 2.]\n",
      " [2. 2. 2. 2. 2.]\n",
      " [2. 2. 2. 2. 2.]\n",
      " [2. 2. 8. 2. 2.]\n",
      " [2. 2. 2. 2. 2.]]\n",
      "mat4\n",
      " [[2. 2. 2. 2. 2.]\n",
      " [2. 2. 2. 2. 2.]\n",
      " [2. 2. 2. 2. 2.]\n",
      " [2. 2. 8. 2. 2.]\n",
      " [2. 2. 2. 2. 2.]]\n",
      "mat5\n",
      " [[ 2.  2.  2.  2.  2.]\n",
      " [ 2.  2.  2.  2.  2.]\n",
      " [ 2.  2.  2.  2.  2.]\n",
      " [ 2.  2. 10.  2.  2.]\n",
      " [ 2.  2.  2.  2.  2.]]\n"
     ]
    }
   ],
   "source": [
    "mat5 = np.copy(mat3)\n",
    "mat3[3][2] = 8\n",
    "print(\"mat3\\n\" , mat3)\n",
    "print(\"mat4\\n\", mat4)\n",
    "print(\"mat5\\n\", mat5)"
   ]
  },
  {
   "cell_type": "markdown",
   "metadata": {},
   "source": [
    "6. \\\n",
    "Lệnh $mat6 = np.empty([4,5])$ sẽ tạo ra một ma trận $mat6$ với kích thước là 4*5 và các phần tử trong ma trận là ngẫu nhiên hoặc các giá trị từ bộ nhớ hiện tại"
   ]
  },
  {
   "cell_type": "code",
   "execution_count": 16,
   "metadata": {},
   "outputs": [
    {
     "data": {
      "text/plain": [
       "array([[4.67296746e-307, 1.69121096e-306, 3.22647253e-307,\n",
       "        1.89146896e-307, 7.56571288e-307],\n",
       "       [4.00544531e-307, 1.11261095e-306, 3.56043054e-307,\n",
       "        1.37961641e-306, 2.22518251e-306],\n",
       "       [1.33511969e-306, 6.23037657e-307, 9.34609790e-307,\n",
       "        8.45593934e-307, 9.34600963e-307],\n",
       "       [1.42418987e-306, 1.60219035e-306, 6.23057349e-307,\n",
       "        9.34603679e-307, 1.24610994e-306]])"
      ]
     },
     "execution_count": 16,
     "metadata": {},
     "output_type": "execute_result"
    }
   ],
   "source": [
    "mat6 = np.empty([4,5])\n",
    "mat6"
   ]
  },
  {
   "cell_type": "markdown",
   "metadata": {},
   "source": [
    "7. \\\n",
    "Lệnh $mat7 = np.identity(4)$ sẽ tạo một ma trận đơn vị $4*4$ \\\n",
    "Cụ thể , mat7 = $\\left[\\begin{matrix} 1 & 0 & 0 & 0 \\\\ 0 & 1 & 0 & 0 \\\\ 0 & 0 & 1 & 0 \\\\ 0 & 0 & 0 & 1 \\end{matrix} \\right] $"
   ]
  },
  {
   "cell_type": "code",
   "execution_count": 17,
   "metadata": {},
   "outputs": [
    {
     "data": {
      "text/plain": [
       "array([[1., 0., 0., 0.],\n",
       "       [0., 1., 0., 0.],\n",
       "       [0., 0., 1., 0.],\n",
       "       [0., 0., 0., 1.]])"
      ]
     },
     "execution_count": 17,
     "metadata": {},
     "output_type": "execute_result"
    }
   ],
   "source": [
    "mat7 = np.identity(4)\n",
    "mat7"
   ]
  },
  {
   "cell_type": "markdown",
   "metadata": {},
   "source": [
    "8. \\\n",
    "Lệnh $mat8 = np.random.random([4,5])$ sẽ tạo ra một ma trận kích thước $4*5$ và các phần tử trong ma trận là ngẫu nhiên"
   ]
  },
  {
   "cell_type": "code",
   "execution_count": 20,
   "metadata": {},
   "outputs": [
    {
     "data": {
      "text/plain": [
       "array([[0.34913055, 0.81267323, 0.40960416, 0.02380861, 0.48394641],\n",
       "       [0.51018148, 0.04818897, 0.36257707, 0.1835322 , 0.15704607],\n",
       "       [0.81512683, 0.64772485, 0.40753281, 0.93306247, 0.62403019],\n",
       "       [0.92257116, 0.59205141, 0.77585951, 0.04760846, 0.99567277]])"
      ]
     },
     "execution_count": 20,
     "metadata": {},
     "output_type": "execute_result"
    }
   ],
   "source": [
    "mat8 = np.random.random([4,5])\n",
    "mat8"
   ]
  },
  {
   "cell_type": "markdown",
   "metadata": {},
   "source": [
    "### Bài tập chương 1"
   ]
  },
  {
   "cell_type": "markdown",
   "metadata": {},
   "source": [
    "Bài 1"
   ]
  },
  {
   "cell_type": "code",
   "execution_count": 59,
   "metadata": {},
   "outputs": [
    {
     "name": "stdout",
     "output_type": "stream",
     "text": [
      "Diem trung binh cua tung hoc sinh\n",
      "['A', 7.0]\n",
      "['B', 5.8]\n",
      "['C', 6.5]\n",
      "['D', 5.3]\n",
      "['E', 7.9]\n",
      "['F', 8.5]\n",
      "Danh sach sinh vien qua mon \n",
      "A\n",
      "B\n",
      "C\n",
      "D\n",
      "E\n",
      "F\n"
     ]
    }
   ],
   "source": [
    "matrix = np.array([[7,8,9,5],[8,7,4,6],[7,5,8,6],[6,8,5,4],[9,9,8,7],[10,8,9,8]])\n",
    "matrix.shape\n",
    "percent = [0.1, 0.2, 0.3, 0.4]\n",
    "AVG = np.dot(matrix,percent)\n",
    "# print(AVG)\n",
    "resume = []\n",
    "passed = []\n",
    "for i in range (len(AVG)):\n",
    "    resume.append([chr(ord('A')+i),round(AVG[i],2)])\n",
    "    if AVG[i] >= 5 :\n",
    "        passed.append(chr(ord('A')+i))\n",
    "print(\"Diem trung binh cua tung hoc sinh\")\n",
    "for student in resume :\n",
    "    print(student)\n",
    "print(\"Danh sach sinh vien qua mon \")\n",
    "for student in passed :\n",
    "    print(student) "
   ]
  },
  {
   "cell_type": "markdown",
   "metadata": {},
   "source": [
    "Bài 2 "
   ]
  },
  {
   "cell_type": "code",
   "execution_count": 63,
   "metadata": {},
   "outputs": [
    {
     "name": "stdout",
     "output_type": "stream",
     "text": [
      "Matrix 1 : \n",
      " [[7 4 4]\n",
      " [2 0 0]\n",
      " [3 3 9]]\n",
      "Matrix 2 : \n",
      " [[2 3 7]\n",
      " [9 5 3]\n",
      " [9 4 4]]\n"
     ]
    }
   ],
   "source": [
    "# Sinh ngẫu nhiên ma trận 3*3 và có các phần tử nguyên từ 0 đến 10\n",
    "matrix_random1 = np.random.randint(0,10,size=(3,3))\n",
    "matrix_random2 = np.random.randint(0,10,size=(3,3))\n",
    "print(\"Matrix 1 : \\n\",matrix_random1)\n",
    "print(\"Matrix 2 : \\n\", matrix_random2)"
   ]
  },
  {
   "cell_type": "code",
   "execution_count": 66,
   "metadata": {},
   "outputs": [
    {
     "name": "stdout",
     "output_type": "stream",
     "text": [
      "Tong phan tu cua ma tran 1 :  32\n",
      "Tong phan tu cua ma tran 2 :  46\n"
     ]
    }
   ],
   "source": [
    "# Tính tổng phần tử của mỗi ma trận \n",
    "sum_mat1 = sum(sum(matrix_random1))\n",
    "sum_mat2 = sum(sum(matrix_random2))\n",
    "print(\"Tong phan tu cua ma tran 1 : \", sum_mat1)\n",
    "print(\"Tong phan tu cua ma tran 2 : \", sum_mat2)"
   ]
  },
  {
   "cell_type": "code",
   "execution_count": 72,
   "metadata": {},
   "outputs": [
    {
     "name": "stdout",
     "output_type": "stream",
     "text": [
      "Mat1_row1 :  9.0\n",
      "Mat1_row3 :  9.9498743710662\n",
      "Mat2_row1 :  7.874007874011811\n",
      "Mat2_row3 :  10.63014581273465\n",
      "Mat1_row1 > Mat2_row1 \n",
      "Math1_row3 < Mat2_row3\n"
     ]
    }
   ],
   "source": [
    "mat1_row1 = np.linalg.norm(matrix_random1[0])\n",
    "mat1_row3 = np.linalg.norm(matrix_random1[2])\n",
    "mat2_row1 = np.linalg.norm(matrix_random2[0])\n",
    "mat2_row3 = np.linalg.norm(matrix_random2[2])\n",
    "print(\"Mat1_row1 : \",mat1_row1)\n",
    "print(\"Mat1_row3 : \",mat1_row3)\n",
    "print(\"Mat2_row1 : \",mat2_row1)\n",
    "print(\"Mat2_row3 : \",mat2_row3)\n",
    "\n",
    "# So sanh\n",
    "if mat1_row1 > mat2_row1 :\n",
    "    print(\"Mat1_row1 > Mat2_row1 \")\n",
    "elif mat1_row1 < mat2_row1 :\n",
    "    print(\"Math1_row1 < Mat2_row1\")\n",
    "else:\n",
    "    print(\"Math1_row1 = Mat2_row1\")\n",
    "\n",
    "if mat1_row3 > mat2_row3 :\n",
    "    print(\"Mat1_row3 > Mat2_row3\")\n",
    "elif mat1_row3 < mat2_row3 :\n",
    "    print(\"Math1_row3 < Mat2_row3\")\n",
    "else:\n",
    "    print(\"Math1_row3 = Mat2_row3\")"
   ]
  },
  {
   "cell_type": "code",
   "execution_count": 75,
   "metadata": {},
   "outputs": [
    {
     "name": "stdout",
     "output_type": "stream",
     "text": [
      "C\n",
      " [[ 9  7 11]\n",
      " [11  5  3]\n",
      " [12  7 13]]\n",
      "D\n",
      " [[ 5  1 -3]\n",
      " [-7 -5 -3]\n",
      " [-6 -1  5]]\n",
      "E\n",
      " [[ 86  57  77]\n",
      " [  4   6  14]\n",
      " [114  60  66]]\n"
     ]
    }
   ],
   "source": [
    "# Tổng của hai ma trận \n",
    "C = matrix_random1 + matrix_random2\n",
    "# Hiệu của hai ma trận\n",
    "D = matrix_random1 - matrix_random2\n",
    "# Tích hai ma trận\n",
    "E = np.dot(matrix_random1,matrix_random2)\n",
    "print(\"C\\n\", C)\n",
    "print(\"D\\n\",D)\n",
    "print(\"E\\n\",E)"
   ]
  },
  {
   "cell_type": "markdown",
   "metadata": {},
   "source": [
    "Bài 3"
   ]
  },
  {
   "cell_type": "code",
   "execution_count": 77,
   "metadata": {},
   "outputs": [
    {
     "name": "stdout",
     "output_type": "stream",
     "text": [
      "[  0.   5.  10.  15.  20.  25.  30.  35.  40.  45.  50.  55.  60.  65.\n",
      "  70.  75.  80.  85.  90.  95. 100.]\n"
     ]
    }
   ],
   "source": [
    "# Sinh vector\n",
    "vector1 = np.linspace(0,100,21)\n",
    "print(vector1)"
   ]
  },
  {
   "cell_type": "markdown",
   "metadata": {},
   "source": [
    "- a) Dùng lệnh split, chia nhỏ vector kia ra thành 3 vector con, đặt là u, v, w"
   ]
  },
  {
   "cell_type": "code",
   "execution_count": 81,
   "metadata": {},
   "outputs": [
    {
     "name": "stdout",
     "output_type": "stream",
     "text": [
      "u\n",
      " [ 0.  5. 10. 15. 20. 25. 30.]\n",
      "v\n",
      " [35. 40. 45. 50. 55. 60. 65.]\n",
      "w\n",
      " [ 70.  75.  80.  85.  90.  95. 100.]\n"
     ]
    }
   ],
   "source": [
    "u,v,w = np.split(vector1,3)\n",
    "print(\"u\\n\", u)\n",
    "print(\"v\\n\",v)\n",
    "print(\"w\\n\",w)"
   ]
  },
  {
   "cell_type": "markdown",
   "metadata": {},
   "source": [
    "- b) Tính $u*v$ và $v.dot(w)$"
   ]
  },
  {
   "cell_type": "code",
   "execution_count": 84,
   "metadata": {},
   "outputs": [
    {
     "name": "stdout",
     "output_type": "stream",
     "text": [
      "u*v\n",
      " [   0.  200.  450.  750. 1100. 1500. 1950.]\n",
      "v.dot(w)\n",
      " 30450.0\n"
     ]
    }
   ],
   "source": [
    "mat_res = u*v\n",
    "mat_res1 = v.dot(w)\n",
    "print(\"u*v\\n\",mat_res)\n",
    "print(\"v.dot(w)\\n\",mat_res1) "
   ]
  },
  {
   "cell_type": "markdown",
   "metadata": {},
   "source": [
    "- c)"
   ]
  }
 ],
 "metadata": {
  "kernelspec": {
   "display_name": "Python 3",
   "language": "python",
   "name": "python3"
  },
  "language_info": {
   "codemirror_mode": {
    "name": "ipython",
    "version": 3
   },
   "file_extension": ".py",
   "mimetype": "text/x-python",
   "name": "python",
   "nbconvert_exporter": "python",
   "pygments_lexer": "ipython3",
   "version": "3.12.1"
  }
 },
 "nbformat": 4,
 "nbformat_minor": 2
}
