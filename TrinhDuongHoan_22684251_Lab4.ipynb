{
 "cells": [
  {
   "cell_type": "markdown",
   "metadata": {},
   "source": [
    "#### Bài 1"
   ]
  },
  {
   "cell_type": "markdown",
   "metadata": {},
   "source": [
    "- a"
   ]
  },
  {
   "cell_type": "code",
   "execution_count": 18,
   "metadata": {},
   "outputs": [
    {
     "name": "stdout",
     "output_type": "stream",
     "text": [
      "[[  0.   6.   0.]\n",
      " [ 16. -12.  -8.]\n",
      " [  4. -15.  -8.]]\n"
     ]
    }
   ],
   "source": [
    "import numpy as np \n",
    "\n",
    "\n",
    "A = np.array([[1,4,8],[2,0,1],[2,0,4]])\n",
    "\n",
    "C = np.eye(3)\n",
    "for i in range (3) :\n",
    "    for j in range(3) :\n",
    "        temp = np.delete(np.delete(A,i,axis=0),j,axis=1)\n",
    "        C[i][j] = np.linalg.det(temp)\n",
    "print(C)"
   ]
  },
  {
   "cell_type": "markdown",
   "metadata": {},
   "source": [
    "- b"
   ]
  },
  {
   "cell_type": "code",
   "execution_count": 19,
   "metadata": {},
   "outputs": [
    {
     "data": {
      "text/plain": [
       "array([[  0.,  16.,   4.],\n",
       "       [  6., -12., -15.],\n",
       "       [  0.,  -8.,  -8.]])"
      ]
     },
     "execution_count": 19,
     "metadata": {},
     "output_type": "execute_result"
    }
   ],
   "source": [
    "Adj = C.T\n",
    "Adj"
   ]
  },
  {
   "cell_type": "markdown",
   "metadata": {},
   "source": [
    "### Bài 2"
   ]
  },
  {
   "cell_type": "code",
   "execution_count": 30,
   "metadata": {},
   "outputs": [
    {
     "name": "stdout",
     "output_type": "stream",
     "text": [
      "Phuong trinh duong tron :  -13*x**2 + 141*x - 13*y**2 + 99*y - 316\n"
     ]
    }
   ],
   "source": [
    "import numpy as np\n",
    "from sympy import *\n",
    "\n",
    "def matrix_circle(x1,y1,x2,y2,x3,y3) :\n",
    "    x,y = symbols('x y')\n",
    "    M = Matrix([[x*x + y*y, x,y,1],[x1**2 + y1**2, x1,y1,1],[x2**2 + y2**2, x2,y2,1],[x3**2 + y3**2, x3,y3,1]])\n",
    "    return M.det()\n",
    "print('Phuong trinh duong tron : ',matrix_circle(2,1,1,4,4,8))"
   ]
  }
 ],
 "metadata": {
  "kernelspec": {
   "display_name": "Python 3",
   "language": "python",
   "name": "python3"
  },
  "language_info": {
   "codemirror_mode": {
    "name": "ipython",
    "version": 3
   },
   "file_extension": ".py",
   "mimetype": "text/x-python",
   "name": "python",
   "nbconvert_exporter": "python",
   "pygments_lexer": "ipython3",
   "version": "3.12.2"
  }
 },
 "nbformat": 4,
 "nbformat_minor": 2
}
